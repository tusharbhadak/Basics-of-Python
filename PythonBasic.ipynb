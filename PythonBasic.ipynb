{
  "nbformat": 4,
  "nbformat_minor": 0,
  "metadata": {
    "colab": {
      "provenance": [],
      "include_colab_link": true
    },
    "kernelspec": {
      "name": "python3",
      "display_name": "Python 3"
    }
  },
  "cells": [
    {
      "cell_type": "markdown",
      "metadata": {
        "id": "view-in-github",
        "colab_type": "text"
      },
      "source": [
        "<a href=\"https://colab.research.google.com/github/tusharbhadak/Basics-of-Python/blob/main/PythonBasic.ipynb\" target=\"_parent\"><img src=\"https://colab.research.google.com/assets/colab-badge.svg\" alt=\"Open In Colab\"/></a>"
      ]
    },
    {
      "cell_type": "markdown",
      "metadata": {
        "id": "MbEFsphzU7VJ"
      },
      "source": [
        "# **Python 3**\n",
        "\n",
        "-> Python was invented by Guido Van Rossum in 1991.\n",
        "\n",
        "-> Python is easy to learn and popular programming language.\n",
        "\n",
        "-> Free and Open Source.\n",
        "\n",
        "-> File extension which is used by Python source file is “.py” \n",
        "\n",
        "-> Case sensitive"
      ]
    },
    {
      "cell_type": "code",
      "metadata": {
        "id": "pbHZ3zXlU710",
        "colab": {
          "base_uri": "https://localhost:8080/"
        },
        "outputId": "d7acd324-e9bf-435a-d4b7-b14b9282f405"
      },
      "source": [
        "#Print function\n",
        "#Syntax - print()\n",
        "# '#' used for commenting single line (shortcut key - Ctrl+1). \n",
        "#For multi-line comments we used Single Quotes (') OR Double Quotes (\"\") 3 times Ctrl+4.\n",
        "\n",
        "print(\"Hello\")\n",
        "print('Welcome')\n",
        "\n",
        "print(\"Welcome to Py World\")"
      ],
      "execution_count": null,
      "outputs": [
        {
          "output_type": "stream",
          "name": "stdout",
          "text": [
            "Hello\n",
            "Welcome\n",
            "Welcome to Py World\n"
          ]
        }
      ]
    },
    {
      "cell_type": "code",
      "source": [
        "#Case sensitive example\n",
        "\n",
        "a=10\n",
        "A=\"20\"\n",
        "print(a)\n",
        "print(type(A))\n",
        "'''\n",
        "b = \"25\"\n",
        "print(b)\n",
        "print(type(b))\n",
        "'''"
      ],
      "metadata": {
        "colab": {
          "base_uri": "https://localhost:8080/",
          "height": 70
        },
        "id": "le7XzzMh78Tf",
        "outputId": "b57c0739-b6af-427a-ceb5-0b63a9e97186"
      },
      "execution_count": null,
      "outputs": [
        {
          "output_type": "stream",
          "name": "stdout",
          "text": [
            "10\n",
            "<class 'str'>\n"
          ]
        },
        {
          "output_type": "execute_result",
          "data": {
            "text/plain": [
              "'\\nb = \"25\"\\nprint(b)\\nprint(type(b))\\n'"
            ],
            "application/vnd.google.colaboratory.intrinsic+json": {
              "type": "string"
            }
          },
          "metadata": {},
          "execution_count": 5
        }
      ]
    },
    {
      "cell_type": "code",
      "source": [
        "print(type(b))"
      ],
      "metadata": {
        "colab": {
          "base_uri": "https://localhost:8080/"
        },
        "id": "yYwN7qhHD99A",
        "outputId": "af7aa8db-0836-4940-da93-3d949c740465"
      },
      "execution_count": null,
      "outputs": [
        {
          "output_type": "stream",
          "name": "stdout",
          "text": [
            "<class 'int'>\n"
          ]
        }
      ]
    },
    {
      "cell_type": "markdown",
      "metadata": {
        "id": "01SgTm0CYsW5"
      },
      "source": [
        "# **Variables**\n",
        "\n",
        "->Variable is nothing but, the value that we assign for a letter or word.\n",
        "\n",
        "-> Python is dynamically typed, which means that you don't have to declare what type each variable is."
      ]
    },
    {
      "cell_type": "code",
      "metadata": {
        "id": "FMzqgOXsZdbC",
        "colab": {
          "base_uri": "https://localhost:8080/"
        },
        "outputId": "83cdbd62-3995-425e-87f6-20443709dace"
      },
      "source": [
        "#Variables\n",
        "#Rules for variables :-\n",
        "# 1. A variable must start with a letter or a underscore character \n",
        "#2. Variable names are case sensitive.\n",
        "age=10\n",
        "_age=20  #case sensitive\n",
        "AGE=30\n",
        "print(age)\n",
        "print(_age)\n",
        "print(AGE)\n",
        "\n",
        "Age=40\n",
        "print(Age)"
      ],
      "execution_count": null,
      "outputs": [
        {
          "output_type": "stream",
          "name": "stdout",
          "text": [
            "10\n",
            "20\n",
            "30\n",
            "40\n"
          ]
        }
      ]
    },
    {
      "cell_type": "code",
      "source": [
        "# 3. A variable cannot start with a number.\n",
        "\"\"\"\n",
        "1a=10\n",
        "print(1a)\n",
        "\"\"\"\n",
        "\n",
        "# 4. Variable name can only contain alpha numeric characters and underscores.\n",
        "#(a-z, A-Z, 0-9, _)."
      ],
      "metadata": {
        "id": "JnU6uzS-_EHK",
        "colab": {
          "base_uri": "https://localhost:8080/",
          "height": 35
        },
        "outputId": "38fe91e9-9b09-4942-8e77-4bd015ce4002"
      },
      "execution_count": null,
      "outputs": [
        {
          "output_type": "execute_result",
          "data": {
            "text/plain": [
              "'\\n1a=10\\nprint(1a)\\n'"
            ],
            "application/vnd.google.colaboratory.intrinsic+json": {
              "type": "string"
            }
          },
          "metadata": {},
          "execution_count": 9
        }
      ]
    },
    {
      "cell_type": "markdown",
      "metadata": {
        "id": "pEVhdj96bIiU"
      },
      "source": [
        "# **Data Types in Python**\n",
        "\n",
        "**Primitive Data Type: -** Primitive data types are predefined (already defined)\n",
        "\n",
        "**Non Primitive Data Type: -** Non-primitive data types are created by the programmer(user defined)\n",
        "\n",
        "Python data types :-\n",
        "-> Text Type:\tstr\n",
        "\n",
        "-> Numeric Types:\tint, float, complex\n",
        "\n",
        "-> Sequence Types:\tlist, tuple, range\n",
        "\n",
        "-> Mapping Type:\tdict\n",
        "\n",
        "-> Set Types:\tset, frozenset\n",
        "\n",
        "-> Boolean Type:\tbool\n",
        "\n",
        "-> Binary Types:\tbytes, bytearray, memoryview\n",
        "\n",
        "-> None Type:\tNoneType"
      ]
    },
    {
      "cell_type": "markdown",
      "source": [
        "![Primitive-and-Non-Primitive-Data-Types.png](data:image/png;base64,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)"
      ],
      "metadata": {
        "id": "NKRD2fio_VeD"
      }
    },
    {
      "cell_type": "code",
      "metadata": {
        "id": "9ZEvIQDnbecu",
        "colab": {
          "base_uri": "https://localhost:8080/"
        },
        "outputId": "30639de9-6e62-4a0d-a843-acb9dd323fe3"
      },
      "source": [
        "#Number - stores the numeric value.\n",
        "# 4 different numerical types:-\n",
        "\n",
        "# Int\n",
        "a=10\n",
        "print(type(a))  #type() method returns class type of the argument(object) passed as parameter\n",
        "\n",
        "#Float\n",
        "A=10.0\n",
        "print(type(A))\n",
        "\n",
        "#Long\n",
        "#there is no 'long' in python 3, but it was supported in python 2. \n",
        "#Because python2 supports only 2 types - int and long.\n",
        "\n",
        "#Complex\n",
        "_a=3.14j\n",
        "print(type(_a))\n",
        "\n",
        "#It is possible to represent an integer in hexa-decimal or octal form\n",
        "num=0xA0F  #Hexa-decimal\n",
        "print(num)\n",
        "\n",
        "NUM=0o37   #Octal\n",
        "print(NUM)"
      ],
      "execution_count": null,
      "outputs": [
        {
          "output_type": "stream",
          "name": "stdout",
          "text": [
            "<class 'int'>\n",
            "<class 'float'>\n",
            "<class 'complex'>\n",
            "2575\n",
            "31\n"
          ]
        }
      ]
    },
    {
      "cell_type": "markdown",
      "metadata": {
        "id": "zumv94zCdoUi"
      },
      "source": [
        "# **Number Type Conversion**\n",
        "\n",
        "Python converts numbers internally in an expression containing mixed types to a common type for evaluation. Sometimes, you need to coerce a number explicitly from one type to another to satisfy the requirements of an operator or function parameter."
      ]
    },
    {
      "cell_type": "code",
      "metadata": {
        "id": "VE2qI3ZtdwOM",
        "colab": {
          "base_uri": "https://localhost:8080/"
        },
        "outputId": "ce2dc4f7-7871-4bc8-c7b3-862a5c2d9843"
      },
      "source": [
        "a=10.0523\n",
        "#print(int(a))         # Type int(x) to convert x to a plain integer.\n",
        "#print(long(a))       # Type long(x) to convert x to a long integer.\n",
        "#print(float(a))       # Type float(x) to convert x to a floating-point number.\n",
        "print(complex(a))     # Type complex(x) to convert x to a complex number with real part x and imaginary part zero.\n"
      ],
      "execution_count": null,
      "outputs": [
        {
          "output_type": "stream",
          "name": "stdout",
          "text": [
            "(10.0523+0j)\n"
          ]
        }
      ]
    },
    {
      "cell_type": "code",
      "source": [
        "b=str(a)\n",
        "print(b)\n",
        "print(type(b))"
      ],
      "metadata": {
        "colab": {
          "base_uri": "https://localhost:8080/"
        },
        "id": "J65TX3hNyWwi",
        "outputId": "18167689-39c8-49cf-fc9e-828f7caada61"
      },
      "execution_count": null,
      "outputs": [
        {
          "output_type": "stream",
          "name": "stdout",
          "text": [
            "10.0523\n",
            "<class 'str'>\n"
          ]
        }
      ]
    },
    {
      "cell_type": "code",
      "source": [
        "ab =None\n",
        "print(ab)\n",
        "print(type(ab))"
      ],
      "metadata": {
        "colab": {
          "base_uri": "https://localhost:8080/"
        },
        "id": "PzeWyTtdWqPR",
        "outputId": "40f44e81-d6b5-4877-9e52-203861f87005"
      },
      "execution_count": null,
      "outputs": [
        {
          "output_type": "stream",
          "name": "stdout",
          "text": [
            "None\n",
            "<class 'NoneType'>\n"
          ]
        }
      ]
    },
    {
      "cell_type": "code",
      "source": [
        "ab =True\n",
        "print(ab)\n",
        "print(type(ab))"
      ],
      "metadata": {
        "colab": {
          "base_uri": "https://localhost:8080/"
        },
        "id": "ebtXYFbYYIim",
        "outputId": "ea0e32b8-6aa9-449a-a5f6-a3a54a18ebd0"
      },
      "execution_count": null,
      "outputs": [
        {
          "output_type": "stream",
          "name": "stdout",
          "text": [
            "True\n",
            "<class 'bool'>\n"
          ]
        }
      ]
    },
    {
      "cell_type": "markdown",
      "metadata": {
        "id": "Y4eoB4fFeYNT"
      },
      "source": [
        "# **String**\n",
        "\n",
        "string literal in python are surrounded by either single quote or double quotes."
      ]
    },
    {
      "cell_type": "code",
      "metadata": {
        "id": "biNJjYTBe1zL",
        "colab": {
          "base_uri": "https://localhost:8080/"
        },
        "outputId": "0fac9452-bce5-4909-8887-d57ffb765f8c"
      },
      "source": [
        "#String\n",
        "a='PYTHON 3'\n",
        "b=\"Welcome to basics of Python 3 by Tushar\"\n",
        "print(a)\n",
        "print(type(a))\n",
        "print(b)\n",
        "print(type(b))\n",
        "\n",
        "# Is it possible to use triple quotes? Let's see(Answer is Yes)\n",
        "_a =\"\"\" Hello Everyone\"\"\"\n",
        "print(_a)\n",
        "print(type(_a))"
      ],
      "execution_count": null,
      "outputs": [
        {
          "output_type": "stream",
          "name": "stdout",
          "text": [
            "PYTHON 3\n",
            "<class 'str'>\n",
            "Welcome to basics of Python 3 by Tushar\n",
            "<class 'str'>\n",
            " Hello Everyone\n",
            "<class 'str'>\n"
          ]
        }
      ]
    },
    {
      "cell_type": "code",
      "source": [
        "_b =''' Hello Everyone'''\n",
        "print(_b)\n",
        "print(type(_b))"
      ],
      "metadata": {
        "colab": {
          "base_uri": "https://localhost:8080/"
        },
        "id": "VJBHW2IlXNLp",
        "outputId": "7c5b620d-e3ba-493b-f723-97b58d93a239"
      },
      "execution_count": null,
      "outputs": [
        {
          "output_type": "stream",
          "name": "stdout",
          "text": [
            " Hello Everyone\n",
            "<class 'str'>\n"
          ]
        }
      ]
    },
    {
      "cell_type": "code",
      "source": [
        "def msg(fname,lname):\n",
        "  print(\"Whats up!\"+\" \"+fname+\" \"+lname)\n",
        "\n",
        "msg('Abhay','Gupta')"
      ],
      "metadata": {
        "colab": {
          "base_uri": "https://localhost:8080/"
        },
        "id": "MecxATOjYag2",
        "outputId": "8f73af02-c724-4f5e-f86a-498c3f740b6f"
      },
      "execution_count": null,
      "outputs": [
        {
          "output_type": "stream",
          "name": "stdout",
          "text": [
            "Whats up! Abhay Gupta\n"
          ]
        }
      ]
    },
    {
      "cell_type": "code",
      "source": [
        "def area_circle(r):\n",
        "  return 3.14*r*r\n",
        "\n",
        "def volume_cuboid(l,b,h):\n",
        "  return l*b*h\n",
        "\n",
        "volume_cuboid(10,5,5)"
      ],
      "metadata": {
        "colab": {
          "base_uri": "https://localhost:8080/"
        },
        "id": "_nBaiPnJZadQ",
        "outputId": "f6018f9d-7224-428a-8155-b0bdb2367760"
      },
      "execution_count": null,
      "outputs": [
        {
          "output_type": "execute_result",
          "data": {
            "text/plain": [
              "250"
            ]
          },
          "metadata": {},
          "execution_count": 25
        }
      ]
    },
    {
      "cell_type": "code",
      "source": [
        "#Default\n",
        "def country(cnt = 'India'):\n",
        "  print(\"I stay in \"+cnt)\n",
        "\n",
        "country('USA')"
      ],
      "metadata": {
        "colab": {
          "base_uri": "https://localhost:8080/"
        },
        "id": "z2_ml786bMje",
        "outputId": "bad089e3-7dbf-43f7-9264-092101036623"
      },
      "execution_count": null,
      "outputs": [
        {
          "output_type": "stream",
          "name": "stdout",
          "text": [
            "I stay in USA\n"
          ]
        }
      ]
    },
    {
      "cell_type": "code",
      "source": [
        "#Global\n",
        "\n",
        "\n",
        "def stream():\n",
        "  global x\n",
        "  x = \"FYBCA A Division\"\n",
        "  print(\"This is \"+x)\n",
        "\n",
        "stream()"
      ],
      "metadata": {
        "colab": {
          "base_uri": "https://localhost:8080/"
        },
        "id": "ONBpIDadaj6N",
        "outputId": "c4fbd02d-2e19-4aa8-aa1c-1abe15f912de"
      },
      "execution_count": null,
      "outputs": [
        {
          "output_type": "stream",
          "name": "stdout",
          "text": [
            "This is FYBCA A Division\n"
          ]
        }
      ]
    },
    {
      "cell_type": "code",
      "source": [
        "a, b ='ABC','XYZ'\n",
        "print(a)\n",
        "print(b)"
      ],
      "metadata": {
        "colab": {
          "base_uri": "https://localhost:8080/"
        },
        "id": "bjgcDnsbXY6k",
        "outputId": "8b292755-2455-4086-9407-1a495a5e85f6"
      },
      "execution_count": null,
      "outputs": [
        {
          "output_type": "stream",
          "name": "stdout",
          "text": [
            "ABC\n",
            "XYZ\n"
          ]
        }
      ]
    },
    {
      "cell_type": "markdown",
      "source": [
        "**Functions in Python**"
      ],
      "metadata": {
        "id": "bxvvCoYUCsO5"
      }
    },
    {
      "cell_type": "code",
      "source": [
        "def msg(fname, lname):\n",
        "  print(\"What's up!!\" + fname+\" \"+lname)\n",
        "msg(\"Harsh\",'Shahporia')"
      ],
      "metadata": {
        "colab": {
          "base_uri": "https://localhost:8080/"
        },
        "id": "x1AxOAth0qeC",
        "outputId": "1f166541-1b69-4075-9c33-3323fa8d9e44"
      },
      "execution_count": null,
      "outputs": [
        {
          "output_type": "stream",
          "name": "stdout",
          "text": [
            "What's up!!Harsh Shahporia\n"
          ]
        }
      ]
    },
    {
      "cell_type": "code",
      "source": [
        "def my_country(country = 'India'):\n",
        "  print(\"I'm from: -\" + country)\n",
        "\n",
        "my_country(\"LA\")"
      ],
      "metadata": {
        "colab": {
          "base_uri": "https://localhost:8080/"
        },
        "id": "6teifKX4C1UY",
        "outputId": "811e6a40-8237-4694-9377-047b1dd86a97"
      },
      "execution_count": null,
      "outputs": [
        {
          "output_type": "stream",
          "name": "stdout",
          "text": [
            "I'm from: -LA\n"
          ]
        }
      ]
    },
    {
      "cell_type": "code",
      "source": [
        "def area_rect(x,y):\n",
        "  return x*y\n",
        "\n",
        "print(area_rect(3,5))"
      ],
      "metadata": {
        "colab": {
          "base_uri": "https://localhost:8080/"
        },
        "id": "w8JgyvQlDzVZ",
        "outputId": "e134e5a2-8103-4f18-d6f0-ba55f5a85dae"
      },
      "execution_count": null,
      "outputs": [
        {
          "output_type": "stream",
          "name": "stdout",
          "text": [
            "15\n"
          ]
        }
      ]
    },
    {
      "cell_type": "code",
      "source": [
        "x =None\n",
        "print(type(x))"
      ],
      "metadata": {
        "colab": {
          "base_uri": "https://localhost:8080/"
        },
        "id": "t_kk01WmFvHn",
        "outputId": "81f94d82-a103-44f9-e1cf-79b3f15bcd32"
      },
      "execution_count": null,
      "outputs": [
        {
          "output_type": "stream",
          "name": "stdout",
          "text": [
            "<class 'NoneType'>\n"
          ]
        }
      ]
    },
    {
      "cell_type": "code",
      "source": [
        "x = \"Was Invented by Guido Van Rossum\"\n",
        "\n",
        "def creator():\n",
        "  print('Python ' + x)\n",
        "\n",
        "creator()"
      ],
      "metadata": {
        "colab": {
          "base_uri": "https://localhost:8080/"
        },
        "id": "mWntjwGpEdKZ",
        "outputId": "a7e8bb09-f7ce-40a4-e873-b192cd413147"
      },
      "execution_count": null,
      "outputs": [
        {
          "output_type": "stream",
          "name": "stdout",
          "text": [
            "Python Was Invented by Guido Van Rossum\n"
          ]
        }
      ]
    },
    {
      "cell_type": "markdown",
      "source": [
        "**Strings in Python**"
      ],
      "metadata": {
        "id": "sy8_bS3-L45q"
      }
    },
    {
      "cell_type": "code",
      "source": [
        "a = 'Hi \\t Hello \\n Hey \\n Howdy'\n",
        "\n",
        "\n",
        "print(a)"
      ],
      "metadata": {
        "colab": {
          "base_uri": "https://localhost:8080/"
        },
        "id": "mtHdCbMRnzvb",
        "outputId": "11b915c2-65b3-4785-cfd2-f10ca54a82c3"
      },
      "execution_count": null,
      "outputs": [
        {
          "output_type": "stream",
          "name": "stdout",
          "text": [
            "Hi \t Hello \n",
            " Hey \n",
            " Howdy\n"
          ]
        }
      ]
    },
    {
      "cell_type": "code",
      "source": [
        "a = 'Gopal Jha'\n",
        "print(a)\n",
        "print(type(a))\n",
        "print(a[:-4])"
      ],
      "metadata": {
        "colab": {
          "base_uri": "https://localhost:8080/"
        },
        "id": "XF_ZT8CPMADW",
        "outputId": "ae92c090-5dab-4e65-bdef-3098dbb8738b"
      },
      "execution_count": null,
      "outputs": [
        {
          "output_type": "stream",
          "name": "stdout",
          "text": [
            "Gopal Jha\n",
            "<class 'str'>\n",
            "Gopal\n"
          ]
        }
      ]
    },
    {
      "cell_type": "code",
      "source": [
        "print(a)\n",
        "\n",
        "a =\"Ghanshyam\"\n",
        "print(a)"
      ],
      "metadata": {
        "colab": {
          "base_uri": "https://localhost:8080/"
        },
        "id": "3KJu6vP4p1XV",
        "outputId": "741e28f7-cc93-4a55-db5b-6dd1bd29afd1"
      },
      "execution_count": null,
      "outputs": [
        {
          "output_type": "stream",
          "name": "stdout",
          "text": [
            "Gopal Jha\n",
            "Ghanshyam\n"
          ]
        }
      ]
    },
    {
      "cell_type": "code",
      "source": [
        "del a"
      ],
      "metadata": {
        "id": "jsFlBS3Fqn7p"
      },
      "execution_count": null,
      "outputs": []
    },
    {
      "cell_type": "code",
      "source": [
        "print(a)"
      ],
      "metadata": {
        "colab": {
          "base_uri": "https://localhost:8080/",
          "height": 165
        },
        "id": "aapP2kiOq0jB",
        "outputId": "0b57057c-5d5d-4cdb-8aa8-52fe351365f2"
      },
      "execution_count": null,
      "outputs": [
        {
          "output_type": "error",
          "ename": "NameError",
          "evalue": "ignored",
          "traceback": [
            "\u001b[0;31m---------------------------------------------------------------------------\u001b[0m",
            "\u001b[0;31mNameError\u001b[0m                                 Traceback (most recent call last)",
            "\u001b[0;32m<ipython-input-23-bca0e2660b9f>\u001b[0m in \u001b[0;36m<module>\u001b[0;34m\u001b[0m\n\u001b[0;32m----> 1\u001b[0;31m \u001b[0mprint\u001b[0m\u001b[0;34m(\u001b[0m\u001b[0ma\u001b[0m\u001b[0;34m)\u001b[0m\u001b[0;34m\u001b[0m\u001b[0;34m\u001b[0m\u001b[0m\n\u001b[0m",
            "\u001b[0;31mNameError\u001b[0m: name 'a' is not defined"
          ]
        }
      ]
    },
    {
      "cell_type": "code",
      "source": [],
      "metadata": {
        "id": "euWKaAUNqn5B"
      },
      "execution_count": null,
      "outputs": []
    },
    {
      "cell_type": "code",
      "source": [],
      "metadata": {
        "id": "ZEqoESHxp1Vs"
      },
      "execution_count": null,
      "outputs": []
    },
    {
      "cell_type": "code",
      "source": [
        "a = 'Manav'\n",
        "print(a[-3])"
      ],
      "metadata": {
        "colab": {
          "base_uri": "https://localhost:8080/"
        },
        "id": "VFOMl7NDL4E0",
        "outputId": "2f8750a5-7af2-45f4-9934-d7f448aa717f"
      },
      "execution_count": null,
      "outputs": [
        {
          "output_type": "stream",
          "name": "stdout",
          "text": [
            "n\n"
          ]
        }
      ]
    },
    {
      "cell_type": "code",
      "source": [
        "#Multiline strings\n",
        "clg = \" sdj, \\t scet.  \\n iit,\\n  svnit \"\n",
        "\n",
        "print(clg)"
      ],
      "metadata": {
        "colab": {
          "base_uri": "https://localhost:8080/"
        },
        "id": "taOosWnYNwxD",
        "outputId": "939272bc-4032-46d1-9aad-4bd234a65a75"
      },
      "execution_count": null,
      "outputs": [
        {
          "output_type": "stream",
          "name": "stdout",
          "text": [
            " sdj, \t scet.  \n",
            " iit,\n",
            "  svnit \n"
          ]
        }
      ]
    },
    {
      "cell_type": "code",
      "source": [
        "#String Slicing\n",
        "\n",
        "str = 'SDJIC College'\n",
        "\n",
        "print(str[5])"
      ],
      "metadata": {
        "colab": {
          "base_uri": "https://localhost:8080/"
        },
        "id": "cIB8n7G3G5Nj",
        "outputId": "6d6b0591-f251-47af-b75b-564294a3a6b7"
      },
      "execution_count": null,
      "outputs": [
        {
          "output_type": "stream",
          "name": "stdout",
          "text": [
            " \n"
          ]
        }
      ]
    },
    {
      "cell_type": "code",
      "source": [
        "print(str[:-3])"
      ],
      "metadata": {
        "colab": {
          "base_uri": "https://localhost:8080/"
        },
        "id": "ijTgfhvAOyTq",
        "outputId": "58578772-d4c2-441d-9416-3252d5854235"
      },
      "execution_count": null,
      "outputs": [
        {
          "output_type": "stream",
          "name": "stdout",
          "text": [
            "SDJIC Coll\n"
          ]
        }
      ]
    },
    {
      "cell_type": "code",
      "source": [
        "#Updating string  \n",
        "#str[3] = ' '"
      ],
      "metadata": {
        "colab": {
          "base_uri": "https://localhost:8080/",
          "height": 183
        },
        "id": "V-IgAG9PQFGp",
        "outputId": "668840d6-6562-4610-8ebb-b8e174bcb520"
      },
      "execution_count": null,
      "outputs": [
        {
          "output_type": "error",
          "ename": "TypeError",
          "evalue": "ignored",
          "traceback": [
            "\u001b[0;31m---------------------------------------------------------------------------\u001b[0m",
            "\u001b[0;31mTypeError\u001b[0m                                 Traceback (most recent call last)",
            "\u001b[0;32m<ipython-input-19-18b82e0099c8>\u001b[0m in \u001b[0;36m<module>\u001b[0;34m\u001b[0m\n\u001b[1;32m      1\u001b[0m \u001b[0;31m#Updating strin\u001b[0m\u001b[0;34m\u001b[0m\u001b[0;34m\u001b[0m\u001b[0;34m\u001b[0m\u001b[0m\n\u001b[0;32m----> 2\u001b[0;31m \u001b[0mstr\u001b[0m\u001b[0;34m[\u001b[0m\u001b[0;36m3\u001b[0m\u001b[0;34m]\u001b[0m \u001b[0;34m=\u001b[0m \u001b[0;34m' '\u001b[0m\u001b[0;34m\u001b[0m\u001b[0;34m\u001b[0m\u001b[0m\n\u001b[0m",
            "\u001b[0;31mTypeError\u001b[0m: 'str' object does not support item assignment"
          ]
        }
      ]
    },
    {
      "cell_type": "code",
      "source": [
        "print(str)\n",
        "\n",
        "str = 'Python'\n",
        "print(str)"
      ],
      "metadata": {
        "colab": {
          "base_uri": "https://localhost:8080/"
        },
        "id": "QAz9hJ7jQxeJ",
        "outputId": "8a2bf523-1e93-4d95-df3f-ccc09ba4494e"
      },
      "execution_count": null,
      "outputs": [
        {
          "output_type": "stream",
          "name": "stdout",
          "text": [
            "SDJIC College\n",
            "Python\n"
          ]
        }
      ]
    },
    {
      "cell_type": "code",
      "source": [
        "#deleting String\n",
        "\"\"\"\n",
        "ab = 'Python'\n",
        "del ab[2]\"\"\""
      ],
      "metadata": {
        "colab": {
          "base_uri": "https://localhost:8080/",
          "height": 200
        },
        "id": "iwpeXg8VRONu",
        "outputId": "3f85b4a0-27d6-42fc-b8d6-65f5743a0738"
      },
      "execution_count": null,
      "outputs": [
        {
          "output_type": "error",
          "ename": "TypeError",
          "evalue": "ignored",
          "traceback": [
            "\u001b[0;31m---------------------------------------------------------------------------\u001b[0m",
            "\u001b[0;31mTypeError\u001b[0m                                 Traceback (most recent call last)",
            "\u001b[0;32m<ipython-input-25-f7cd40b1b679>\u001b[0m in \u001b[0;36m<module>\u001b[0;34m\u001b[0m\n\u001b[1;32m      1\u001b[0m \u001b[0;31m#deleting String\u001b[0m\u001b[0;34m\u001b[0m\u001b[0;34m\u001b[0m\u001b[0;34m\u001b[0m\u001b[0m\n\u001b[1;32m      2\u001b[0m \u001b[0mab\u001b[0m \u001b[0;34m=\u001b[0m \u001b[0;34m'Python'\u001b[0m\u001b[0;34m\u001b[0m\u001b[0;34m\u001b[0m\u001b[0m\n\u001b[0;32m----> 3\u001b[0;31m \u001b[0;32mdel\u001b[0m \u001b[0mab\u001b[0m\u001b[0;34m[\u001b[0m\u001b[0;36m2\u001b[0m\u001b[0;34m]\u001b[0m\u001b[0;34m\u001b[0m\u001b[0;34m\u001b[0m\u001b[0m\n\u001b[0m",
            "\u001b[0;31mTypeError\u001b[0m: 'str' object doesn't support item deletion"
          ]
        }
      ]
    },
    {
      "cell_type": "code",
      "source": [
        "del ab"
      ],
      "metadata": {
        "id": "ttSg1PxqRdRf"
      },
      "execution_count": null,
      "outputs": []
    },
    {
      "cell_type": "code",
      "source": [
        "#print(ab)"
      ],
      "metadata": {
        "colab": {
          "base_uri": "https://localhost:8080/",
          "height": 165
        },
        "id": "4JuJo8QaRf4f",
        "outputId": "ccafec42-c089-4ca0-b791-361f7424c40c"
      },
      "execution_count": null,
      "outputs": [
        {
          "output_type": "error",
          "ename": "NameError",
          "evalue": "ignored",
          "traceback": [
            "\u001b[0;31m---------------------------------------------------------------------------\u001b[0m",
            "\u001b[0;31mNameError\u001b[0m                                 Traceback (most recent call last)",
            "\u001b[0;32m<ipython-input-27-bc30cb4adf72>\u001b[0m in \u001b[0;36m<module>\u001b[0;34m\u001b[0m\n\u001b[0;32m----> 1\u001b[0;31m \u001b[0mprint\u001b[0m\u001b[0;34m(\u001b[0m\u001b[0mab\u001b[0m\u001b[0;34m)\u001b[0m\u001b[0;34m\u001b[0m\u001b[0;34m\u001b[0m\u001b[0m\n\u001b[0m",
            "\u001b[0;31mNameError\u001b[0m: name 'ab' is not defined"
          ]
        }
      ]
    },
    {
      "cell_type": "markdown",
      "source": [
        "## Python String Operators "
      ],
      "metadata": {
        "id": "zwk0TH8kUTKs"
      }
    },
    {
      "cell_type": "code",
      "source": [
        "# '+' Operator\n",
        "a = \"Hey \"\n",
        "b = \"How are you?\"\n",
        "\n",
        "print(a+b)\n",
        "print(a*5)"
      ],
      "metadata": {
        "colab": {
          "base_uri": "https://localhost:8080/"
        },
        "id": "-CtIyJvprAFK",
        "outputId": "0f2bec40-78d7-4e7d-b2ad-17cfb695c251"
      },
      "execution_count": null,
      "outputs": [
        {
          "output_type": "stream",
          "name": "stdout",
          "text": [
            "Hey How are you?\n",
            "Hey Hey Hey Hey Hey \n"
          ]
        }
      ]
    },
    {
      "cell_type": "code",
      "source": [
        "a = 10\n",
        "b = 20\n",
        "print(a+b)\n",
        "print(a*b)"
      ],
      "metadata": {
        "colab": {
          "base_uri": "https://localhost:8080/"
        },
        "id": "BsogD8_hrR0h",
        "outputId": "3c75b628-de5b-49a2-8460-b08428da0d0c"
      },
      "execution_count": null,
      "outputs": [
        {
          "output_type": "stream",
          "name": "stdout",
          "text": [
            "30\n",
            "200\n"
          ]
        }
      ]
    },
    {
      "cell_type": "code",
      "source": [
        "print('\\x48\\x65\\x6c\\x6c\\x6f')"
      ],
      "metadata": {
        "colab": {
          "base_uri": "https://localhost:8080/"
        },
        "id": "gJePQ1O8Yl3t",
        "outputId": "bd7caa97-f12d-4d61-fdb4-b9c96927bb9a"
      },
      "execution_count": null,
      "outputs": [
        {
          "output_type": "stream",
          "name": "stdout",
          "text": [
            "Hello\n"
          ]
        }
      ]
    },
    {
      "cell_type": "code",
      "source": [
        "score = 25\n",
        "average = 2.56\n",
        "name = \"ABC\"\n",
        "\n",
        "print(\"Integer value: %d \\n  Float value: - %f \\n String value:- %s\"%(score,average,name))"
      ],
      "metadata": {
        "colab": {
          "base_uri": "https://localhost:8080/"
        },
        "id": "g2RGvqS0cqI9",
        "outputId": "ad1f5379-75dd-415d-bdb2-71e5b0ffa17c"
      },
      "execution_count": null,
      "outputs": [
        {
          "output_type": "stream",
          "name": "stdout",
          "text": [
            "Integer value: 25 \n",
            "  Float value: - 2.560000 \n",
            " String value:- ABC\n"
          ]
        }
      ]
    },
    {
      "cell_type": "code",
      "source": [
        "#Python String Operators\n"
      ],
      "metadata": {
        "id": "55Axxw5GTyoj"
      },
      "execution_count": null,
      "outputs": []
    },
    {
      "cell_type": "code",
      "source": [
        "ab = 'Hey,\"What\\'s up?\"'\n",
        "print(ab)"
      ],
      "metadata": {
        "colab": {
          "base_uri": "https://localhost:8080/"
        },
        "id": "-mRhO9yZW-8K",
        "outputId": "569c0282-bf17-4ed4-a54a-75108bdcc151"
      },
      "execution_count": null,
      "outputs": [
        {
          "output_type": "stream",
          "name": "stdout",
          "text": [
            "Hey,\"What\"s up?\"\n"
          ]
        }
      ]
    },
    {
      "cell_type": "code",
      "source": [
        "a = \"SDJ International College \"\n",
        "b = 5\n",
        "print(a[2:6])"
      ],
      "metadata": {
        "colab": {
          "base_uri": "https://localhost:8080/"
        },
        "id": "eU56-W25nVnK",
        "outputId": "875037d3-a489-488a-fc0a-b4d849b188ac"
      },
      "execution_count": null,
      "outputs": [
        {
          "output_type": "stream",
          "name": "stdout",
          "text": [
            "J In\n"
          ]
        }
      ]
    },
    {
      "cell_type": "code",
      "source": [
        "a = '\\x48\\x65\\x6c\\x6c\\x6f'\n",
        "print(a)"
      ],
      "metadata": {
        "colab": {
          "base_uri": "https://localhost:8080/"
        },
        "id": "5MLZVEDmp-bk",
        "outputId": "f537c41c-43d8-4458-ef08-d0731eb7d83e"
      },
      "execution_count": null,
      "outputs": [
        {
          "output_type": "stream",
          "name": "stdout",
          "text": [
            "Hello\n"
          ]
        }
      ]
    },
    {
      "cell_type": "code",
      "source": [
        "a = \"Birbal said,\\\"Hey What\\'s up\\\"\"\n",
        "print(a)"
      ],
      "metadata": {
        "colab": {
          "base_uri": "https://localhost:8080/"
        },
        "id": "QOMy5naaFmPs",
        "outputId": "ebf805f6-ca0a-497d-97a0-7ea3c080146d"
      },
      "execution_count": null,
      "outputs": [
        {
          "output_type": "stream",
          "name": "stdout",
          "text": [
            "Birbal said,\"Hey What's up\"\n"
          ]
        }
      ]
    },
    {
      "cell_type": "code",
      "source": [
        "print(\"\\a\")"
      ],
      "metadata": {
        "colab": {
          "base_uri": "https://localhost:8080/"
        },
        "id": "_8y_jSH1HkMx",
        "outputId": "4a760171-18ea-4e81-ba5d-de73e7107bac"
      },
      "execution_count": null,
      "outputs": [
        {
          "output_type": "stream",
          "name": "stdout",
          "text": [
            "\u0007\n"
          ]
        }
      ]
    },
    {
      "cell_type": "code",
      "source": [
        "print(\"Python1\\t python 2\\n python 3\")"
      ],
      "metadata": {
        "colab": {
          "base_uri": "https://localhost:8080/"
        },
        "id": "xgBQwyQcG8M4",
        "outputId": "598be249-02ca-4be8-ba0a-9ff543deaa15"
      },
      "execution_count": null,
      "outputs": [
        {
          "output_type": "stream",
          "name": "stdout",
          "text": [
            "Python1\t python 2\n",
            " python 3\n"
          ]
        }
      ]
    },
    {
      "cell_type": "code",
      "source": [
        "print(\"\\x48\\x65\\x6c\\x6c\\x6f\")"
      ],
      "metadata": {
        "colab": {
          "base_uri": "https://localhost:8080/"
        },
        "id": "0AzDNkViHvlE",
        "outputId": "47f0115f-d6a2-433d-b7e0-a91eaa91e2db"
      },
      "execution_count": null,
      "outputs": [
        {
          "output_type": "stream",
          "name": "stdout",
          "text": [
            "Hello\n"
          ]
        }
      ]
    },
    {
      "cell_type": "code",
      "source": [
        "#format method\n",
        "txt1 = \"My name is {fname}, I'm {age} years young\".format(fname = \"Tushar\", age = 24)\n",
        "print(txt1)"
      ],
      "metadata": {
        "colab": {
          "base_uri": "https://localhost:8080/"
        },
        "id": "6m7Naki8upmm",
        "outputId": "d523f35d-4ac5-4b19-e9e8-9596265fcf84"
      },
      "execution_count": null,
      "outputs": [
        {
          "output_type": "stream",
          "name": "stdout",
          "text": [
            "My name is Tushar, I'm 24 years young\n"
          ]
        }
      ]
    },
    {
      "cell_type": "code",
      "source": [
        "txt3 = \"My name is {}, I'm {}, I live in {}\".format(\"John\",36, 'Surat')\n",
        "print(txt3)"
      ],
      "metadata": {
        "colab": {
          "base_uri": "https://localhost:8080/"
        },
        "id": "k-dazCn8usrN",
        "outputId": "36f33639-5cc9-4924-a8b7-f4fd609ba42b"
      },
      "execution_count": null,
      "outputs": [
        {
          "output_type": "stream",
          "name": "stdout",
          "text": [
            "My name is John, I'm 36, I live in Surat\n"
          ]
        }
      ]
    },
    {
      "cell_type": "code",
      "source": [
        "str = \"Hello Javatpoint\"\n",
        "str2 = str.center(18,'?') \n",
        "print(\"Old value:\", str) \n",
        "print(\"New value:\", str2)"
      ],
      "metadata": {
        "colab": {
          "base_uri": "https://localhost:8080/"
        },
        "id": "SaJGM8aNuyGV",
        "outputId": "6a2eac30-26eb-4548-a0ad-c3a41bb5f932"
      },
      "execution_count": null,
      "outputs": [
        {
          "output_type": "stream",
          "name": "stdout",
          "text": [
            "Old value: Hello Javatpoint\n",
            "New value: ?Hello Javatpoint?\n"
          ]
        }
      ]
    },
    {
      "cell_type": "code",
      "source": [
        "txt = \"I love apples, apple are my favorite fruit\"\n",
        "x = txt.count(\"apples\")\n",
        "print(x)"
      ],
      "metadata": {
        "colab": {
          "base_uri": "https://localhost:8080/"
        },
        "id": "Bi59AkAYvZbP",
        "outputId": "74175d9f-2667-4fc6-bcee-fe609c4acb4a"
      },
      "execution_count": null,
      "outputs": [
        {
          "output_type": "stream",
          "name": "stdout",
          "text": [
            "1\n"
          ]
        }
      ]
    },
    {
      "cell_type": "code",
      "source": [
        "txt = \"I love apples, apple are my favorite fruit\" \n",
        "x = txt.count(\"a\", 18, 24) \n",
        "print(x)"
      ],
      "metadata": {
        "colab": {
          "base_uri": "https://localhost:8080/"
        },
        "id": "gMdZqV7SvkP6",
        "outputId": "9e784ef3-0fca-4e9f-9c96-124b30268949"
      },
      "execution_count": null,
      "outputs": [
        {
          "output_type": "stream",
          "name": "stdout",
          "text": [
            "1\n"
          ]
        }
      ]
    },
    {
      "cell_type": "code",
      "source": [
        "str = \"->\" # string\n",
        "list = {'Java','C#','Python'} # iterable\n",
        "str2 = str.join(list)\n",
        "print(str2)"
      ],
      "metadata": {
        "colab": {
          "base_uri": "https://localhost:8080/"
        },
        "id": "8BXTapoFvniR",
        "outputId": "d44a02e1-596b-4761-d3f3-34b4034d65d2"
      },
      "execution_count": null,
      "outputs": [
        {
          "output_type": "stream",
          "name": "stdout",
          "text": [
            "Python->Java->C#\n"
          ]
        }
      ]
    },
    {
      "cell_type": "code",
      "source": [
        "x = len(\"Hello How are you?\")\n",
        "print(x)"
      ],
      "metadata": {
        "colab": {
          "base_uri": "https://localhost:8080/"
        },
        "id": "rkd8_UOjv2L0",
        "outputId": "ec8d71d7-6e52-48ad-b807-4c3072db58a7"
      },
      "execution_count": null,
      "outputs": [
        {
          "output_type": "stream",
          "name": "stdout",
          "text": [
            "18\n"
          ]
        }
      ]
    },
    {
      "cell_type": "code",
      "source": [
        "x = max(\"Mike\", \"John\", \"Vicky\")\n",
        "print(x)"
      ],
      "metadata": {
        "colab": {
          "base_uri": "https://localhost:8080/"
        },
        "id": "RAxY-9SVv5si",
        "outputId": "fd27115e-d4f6-45d1-86d4-6d8e6e595b65"
      },
      "execution_count": null,
      "outputs": [
        {
          "output_type": "stream",
          "name": "stdout",
          "text": [
            "Vicky\n"
          ]
        }
      ]
    },
    {
      "cell_type": "code",
      "source": [
        "x = min(\"ab\", \"a\", \"xyz\")\n",
        "print(x)"
      ],
      "metadata": {
        "colab": {
          "base_uri": "https://localhost:8080/"
        },
        "id": "ZFcPptXPv8uT",
        "outputId": "467514b2-e50b-45c0-db3f-03b059c31cf7"
      },
      "execution_count": null,
      "outputs": [
        {
          "output_type": "stream",
          "name": "stdout",
          "text": [
            "a\n"
          ]
        }
      ]
    },
    {
      "cell_type": "code",
      "source": [
        "txt = \"one one was a race horse, two two was one too.\"\n",
        "x = txt.replace(\"two\", \"2\")\n",
        "print(x)"
      ],
      "metadata": {
        "colab": {
          "base_uri": "https://localhost:8080/"
        },
        "id": "dgcpKfQ6wBm-",
        "outputId": "ae2e9f76-0fc9-429a-b1e2-a9be46dc3b1c"
      },
      "execution_count": null,
      "outputs": [
        {
          "output_type": "stream",
          "name": "stdout",
          "text": [
            "one one was a race horse, 2 2 was one too.\n"
          ]
        }
      ]
    },
    {
      "cell_type": "code",
      "source": [
        "txt = \"Hello my friends\"\n",
        "x = txt.upper()\n",
        "print(x)"
      ],
      "metadata": {
        "colab": {
          "base_uri": "https://localhost:8080/"
        },
        "id": "4pW17Y88wI3l",
        "outputId": "350cbf66-ea29-4fa7-b2b8-bf4a1a1fdb47"
      },
      "execution_count": null,
      "outputs": [
        {
          "output_type": "stream",
          "name": "stdout",
          "text": [
            "HELLO MY FRIENDS\n"
          ]
        }
      ]
    },
    {
      "cell_type": "code",
      "source": [
        "txt = \"Hello my FRIENDS\"\n",
        "x = txt.lower()\n",
        "print(x)"
      ],
      "metadata": {
        "colab": {
          "base_uri": "https://localhost:8080/"
        },
        "id": "97MVytF0wR37",
        "outputId": "75cb975e-7cfc-4f89-c405-c2384b8cbeff"
      },
      "execution_count": null,
      "outputs": [
        {
          "output_type": "stream",
          "name": "stdout",
          "text": [
            "hello my friends\n"
          ]
        }
      ]
    },
    {
      "cell_type": "code",
      "source": [
        "txt = \"apple#banana#cherry#orange\"\n",
        "x = txt.split(\"#\")\n",
        "print(x)"
      ],
      "metadata": {
        "colab": {
          "base_uri": "https://localhost:8080/"
        },
        "id": "tqNMmZsOwWQq",
        "outputId": "48924a31-d47d-427c-d2dd-1dbd6e8cdfbe"
      },
      "execution_count": null,
      "outputs": [
        {
          "output_type": "stream",
          "name": "stdout",
          "text": [
            "['apple', 'banana', 'cherry', 'orange']\n"
          ]
        }
      ]
    },
    {
      "cell_type": "code",
      "source": [
        "txt = \"apple#banana#cherry#orange\"\n",
        "# setting the maxsplit parameter to 1, will return a list with 2 elements!\n",
        "x = txt.split(\"#\", 2)\n",
        "print(x)"
      ],
      "metadata": {
        "colab": {
          "base_uri": "https://localhost:8080/"
        },
        "id": "d46X-_8CwbA5",
        "outputId": "e73e49d8-0bd3-4407-c579-361b70f01cb4"
      },
      "execution_count": null,
      "outputs": [
        {
          "output_type": "stream",
          "name": "stdout",
          "text": [
            "['apple', 'banana', 'cherry#orange']\n"
          ]
        }
      ]
    },
    {
      "cell_type": "code",
      "source": [
        "a=25\n",
        "b=2\n",
        "a%b"
      ],
      "metadata": {
        "colab": {
          "base_uri": "https://localhost:8080/"
        },
        "id": "2LUS90Ep2R7E",
        "outputId": "9dcb94fc-f1a8-4112-bc7c-481d1fb55036"
      },
      "execution_count": null,
      "outputs": [
        {
          "output_type": "execute_result",
          "data": {
            "text/plain": [
              "1"
            ]
          },
          "metadata": {},
          "execution_count": 25
        }
      ]
    },
    {
      "cell_type": "code",
      "source": [
        "a=5\n",
        "b=2\n",
        "a//b"
      ],
      "metadata": {
        "colab": {
          "base_uri": "https://localhost:8080/"
        },
        "id": "ja1cfDVd8Nnf",
        "outputId": "0b1fdd43-116c-4b1a-cbb3-6d4bb0216c1e"
      },
      "execution_count": null,
      "outputs": [
        {
          "output_type": "execute_result",
          "data": {
            "text/plain": [
              "2"
            ]
          },
          "metadata": {},
          "execution_count": 28
        }
      ]
    },
    {
      "cell_type": "code",
      "source": [
        "a = 5\n",
        "b = 2\n",
        "a%=b\n",
        "\n",
        "print(a)"
      ],
      "metadata": {
        "colab": {
          "base_uri": "https://localhost:8080/"
        },
        "id": "fTapR-9q8wBc",
        "outputId": "3a30953d-cb1a-4c4a-fbbb-afa6f1c20052"
      },
      "execution_count": null,
      "outputs": [
        {
          "output_type": "stream",
          "name": "stdout",
          "text": [
            "1\n"
          ]
        }
      ]
    },
    {
      "cell_type": "code",
      "source": [
        "a = 2\n",
        "b =5\n",
        "a >= b"
      ],
      "metadata": {
        "colab": {
          "base_uri": "https://localhost:8080/"
        },
        "id": "rTsW1Obd9WNU",
        "outputId": "92eaec42-3a07-4d9b-8924-39590a93b87b"
      },
      "execution_count": null,
      "outputs": [
        {
          "output_type": "execute_result",
          "data": {
            "text/plain": [
              "False"
            ]
          },
          "metadata": {},
          "execution_count": 43
        }
      ]
    },
    {
      "cell_type": "code",
      "source": [],
      "metadata": {
        "id": "tTtEpwjQ8v_s"
      },
      "execution_count": null,
      "outputs": []
    },
    {
      "cell_type": "code",
      "source": [
        "a = 'Hello'\n",
        "print(a)"
      ],
      "metadata": {
        "colab": {
          "base_uri": "https://localhost:8080/"
        },
        "id": "OU8TlTh5wDv5",
        "outputId": "71ed9b0b-0496-474f-e4c1-adb921857027"
      },
      "execution_count": null,
      "outputs": [
        {
          "output_type": "stream",
          "name": "stdout",
          "text": [
            "Hello\n"
          ]
        }
      ]
    },
    {
      "cell_type": "code",
      "source": [
        "a = 2\n",
        "b = 5\n",
        "b//=a\n",
        "print(b)"
      ],
      "metadata": {
        "colab": {
          "base_uri": "https://localhost:8080/"
        },
        "id": "iZ2yQlTVwWEE",
        "outputId": "56844568-feba-4cb6-b8bc-2214fc21cef1"
      },
      "execution_count": null,
      "outputs": [
        {
          "output_type": "stream",
          "name": "stdout",
          "text": [
            "2\n"
          ]
        }
      ]
    },
    {
      "cell_type": "code",
      "source": [
        "a =10\n",
        "b = 20\n",
        "a<b"
      ],
      "metadata": {
        "colab": {
          "base_uri": "https://localhost:8080/",
          "height": 130
        },
        "id": "byN0EsfjxgE5",
        "outputId": "7a16b448-1482-4964-f680-d40e34768e36"
      },
      "execution_count": null,
      "outputs": [
        {
          "output_type": "error",
          "ename": "SyntaxError",
          "evalue": "ignored",
          "traceback": [
            "\u001b[0;36m  File \u001b[0;32m\"<ipython-input-20-24b0fabd4812>\"\u001b[0;36m, line \u001b[0;32m3\u001b[0m\n\u001b[0;31m    a<>b\u001b[0m\n\u001b[0m      ^\u001b[0m\n\u001b[0;31mSyntaxError\u001b[0m\u001b[0;31m:\u001b[0m invalid syntax\n"
          ]
        }
      ]
    },
    {
      "cell_type": "markdown",
      "metadata": {
        "id": "BhwVG9h4fukl"
      },
      "source": [
        "# **List**\n",
        "\n",
        "-> List is a collection which is ordered and changeable.\n",
        "\n",
        "-> It allows duplicate members.\n",
        "\n",
        "-> In Python lists are written with square brackets. '[]'"
      ]
    },
    {
      "cell_type": "code",
      "source": [
        "#List\n",
        "Fruit=['Apple','Banana','Cherry','Mango','Apple']\n",
        "Fruits=['Apple','Banana','Cherry','Kiwi','Grapes']\n",
        "print(Fruit)\n",
        "print(type(Fruit))"
      ],
      "metadata": {
        "colab": {
          "base_uri": "https://localhost:8080/"
        },
        "id": "h1Jj7wmDsA47",
        "outputId": "f30b5fb8-49ca-482a-ffb2-56b9930f9640"
      },
      "execution_count": null,
      "outputs": [
        {
          "output_type": "stream",
          "name": "stdout",
          "text": [
            "['Apple', 'Banana', 'Cherry', 'Mango', 'Apple']\n",
            "<class 'list'>\n"
          ]
        }
      ]
    },
    {
      "cell_type": "code",
      "source": [
        "print(Fruits)"
      ],
      "metadata": {
        "colab": {
          "base_uri": "https://localhost:8080/"
        },
        "id": "3F63eRorY8lW",
        "outputId": "9f89f404-1c1f-4983-9291-08ec273728f9"
      },
      "execution_count": null,
      "outputs": [
        {
          "output_type": "stream",
          "name": "stdout",
          "text": [
            "['Apple', 'Banana', 'Cherry', 'Kiwi', 'Grapes']\n"
          ]
        }
      ]
    },
    {
      "cell_type": "code",
      "metadata": {
        "id": "ANuHFxUqgDju",
        "colab": {
          "base_uri": "https://localhost:8080/"
        },
        "outputId": "eff62da5-df92-469f-f409-e4beac512e36"
      },
      "source": [
        "#List\n",
        "Fruit=['Apple','Banana','Cherry','Mango','Apple']\n",
        "Fruits=['Apple','Banana','Cherry','Kiwi','Grapes']\n",
        "print(Fruit)\n",
        "print(type(Fruit))\n",
        "\n",
        "#Some List methods :-\n",
        "print('-----Append method-----')\n",
        "# 1. Append method - add new item in list\n",
        "# Syntax - append()\n",
        "Fruit.append('Kiwi')\n",
        "print(Fruit)\n",
        "\n",
        "print('-----Copy method-----')\n",
        "# 2. Copy method - copy the whole list\n",
        "# Syntax - copy()\n",
        "X=Fruit.copy()\n",
        "print(X)\n",
        "\n",
        "print('-----Count method-----')\n",
        "# 3. Count method - returns the number of elements with specified value\n",
        "# Syntax - count()\n",
        "print(len(Fruit)) # len function counts the total elemnents in the list\n",
        "X=Fruit.count('Apple')\n",
        "#print(a)\n",
        "print(X)\n",
        "\n",
        "print('-----Extend method-----')\n",
        "# 4. Extend method - add's the specified list elemnts(or any iterable) to the end of current list\n",
        "# Syntax - extend()\n",
        "num=[10,20,30,45]\n",
        "Fruit.extend(num)\n",
        "Fruit.append(num)\n",
        "print(Fruit)\n",
        "\n",
        "print('-----Index method-----')\n",
        "# 5. Index method - returns index of the first element of specified value\n",
        "# Syntax - index()\n",
        "_x=Fruit.index('Apple')\n",
        "print(_x)\n",
        "\n",
        "\n",
        "print('-----Clear method-----')\n",
        "# 6. Clear method - removes all the element from list\n",
        "# Syntax - clear()\n",
        "Fruit.clear()\n",
        "print(Fruit)\n",
        "\n",
        "print('-----Insert method-----')\n",
        "# 7. Insert method - Adds an element at the specified position\n",
        "# Syntax - insert(position, element)\n",
        "Fruits.insert(1, \"Orange\")\n",
        "print(Fruits)\n",
        "\n",
        "print('-----Pop method-----')\n",
        "# 8. Pop method - Removes the element at the specified position\n",
        "# Syntax - pop(position)\n",
        "Fruits.pop(1)\n",
        "print(Fruits)\n",
        "\n",
        "print('-----Remove method-----')\n",
        "# 9. Remove method - Removes the first item with the specified value\n",
        "# Syntax - remove(element)\n",
        "Fruits.remove(\"Banana\")\n",
        "print(Fruits)\n",
        "\n",
        "\n",
        "print('-----Reverse method-----')\n",
        "# 10. Reverse method - reverses the sorting order of the elements\n",
        "# Syntax - reverse()\n",
        "Fruits.reverse()\n",
        "print(Fruits)\n",
        "\n",
        "\n",
        "print('-----Sort method-----')\n",
        "# 11. Sort method - sorts the list ascending by default\n",
        "# Syntax - sort(reverse=True|False, key=myFunc)\n",
        "Fruits.sort()\n",
        "print(Fruits)\n",
        "\n"
      ],
      "execution_count": null,
      "outputs": [
        {
          "output_type": "stream",
          "text": [
            "['Apple', 'Banana', 'Cherry', 'Mango', 'Apple']\n",
            "<class 'list'>\n",
            "-----Append method-----\n",
            "['Apple', 'Banana', 'Cherry', 'Mango', 'Apple', 'Kiwi']\n",
            "-----Copy method-----\n",
            "['Apple', 'Banana', 'Cherry', 'Mango', 'Apple', 'Kiwi']\n",
            "-----Count method-----\n",
            "6\n",
            "2\n",
            "-----Extend method-----\n",
            "['Apple', 'Banana', 'Cherry', 'Mango', 'Apple', 'Kiwi', 10, 20, 30, 45, [10, 20, 30, 45]]\n",
            "-----Index method-----\n",
            "0\n",
            "-----Clear method-----\n",
            "[]\n",
            "-----Insert method-----\n",
            "['Apple', 'Orange', 'Banana', 'Cherry', 'Kiwi', 'Grapes']\n",
            "-----Pop method-----\n",
            "['Apple', 'Banana', 'Cherry', 'Kiwi', 'Grapes']\n",
            "-----Remove method-----\n",
            "['Apple', 'Cherry', 'Kiwi', 'Grapes']\n",
            "-----Reverse method-----\n",
            "['Grapes', 'Kiwi', 'Cherry', 'Apple']\n",
            "-----Sort method-----\n",
            "['Apple', 'Cherry', 'Grapes', 'Kiwi']\n"
          ],
          "name": "stdout"
        }
      ]
    },
    {
      "cell_type": "code",
      "source": [
        "vowels = ['a','i','e','o','u']\n",
        "\n",
        "var = input(\"Enter the alphabet:- \")\n",
        "\n",
        "def vow(var):\n",
        "  if var in vowels:\n",
        "    print(\"It's Vowel\")\n",
        "  else:\n",
        "    print(\"It's consonant\")\n",
        "\n",
        "vow(var)"
      ],
      "metadata": {
        "colab": {
          "base_uri": "https://localhost:8080/"
        },
        "id": "9ZaATsusq9EF",
        "outputId": "dd7ef5c0-d6b5-40b3-9f8f-94786436d135"
      },
      "execution_count": null,
      "outputs": [
        {
          "output_type": "stream",
          "name": "stdout",
          "text": [
            "Enter the alphabet:- y\n",
            "It's consonant\n"
          ]
        }
      ]
    },
    {
      "cell_type": "code",
      "source": [
        "var = input(\"Enter the alphabet:- \")\n",
        "print(var)\n",
        "print(type(var))"
      ],
      "metadata": {
        "colab": {
          "base_uri": "https://localhost:8080/"
        },
        "id": "Fx_3XBA1tbJz",
        "outputId": "02314647-2bc0-4fd4-b43a-35b632ab0b24"
      },
      "execution_count": null,
      "outputs": [
        {
          "output_type": "stream",
          "name": "stdout",
          "text": [
            "Enter the alphabet:- 8\n",
            "8\n",
            "<class 'str'>\n"
          ]
        }
      ]
    },
    {
      "cell_type": "markdown",
      "metadata": {
        "id": "tru3CoNTjHhc"
      },
      "source": [
        "# **Tuple**\n",
        "\n",
        "-> Tuple is a collection which is ordered and unchangeable.\n",
        "\n",
        "-> In Python tuples are written in round brackets. '()'"
      ]
    },
    {
      "cell_type": "code",
      "source": [
        "#Tuple\n",
        "\n",
        "thistuple = (1,2,3,4)\n",
        "print(thistuple[-3])\n",
        "print(type(thistuple))"
      ],
      "metadata": {
        "colab": {
          "base_uri": "https://localhost:8080/"
        },
        "id": "pBtvWouWWbVV",
        "outputId": "ca371f94-b923-4fdd-c5a8-f34db1b76ebd"
      },
      "execution_count": null,
      "outputs": [
        {
          "output_type": "stream",
          "name": "stdout",
          "text": [
            "2\n",
            "<class 'tuple'>\n"
          ]
        }
      ]
    },
    {
      "cell_type": "code",
      "metadata": {
        "id": "OZ4svESyjqyH",
        "colab": {
          "base_uri": "https://localhost:8080/"
        },
        "outputId": "a469793e-c33b-445e-ef32-3bf326dafa8e"
      },
      "source": [
        "#Tuple\n",
        "\n",
        "thistuple = (1,2,3,4)\n",
        "print(thistuple)\n",
        "print(type(thistuple))\n",
        "\n",
        "#Tuple has only count method and index method.\n",
        "print('-----Count method-----')\n",
        "# 1. Count method - Returns the number of times a specified value occurs in a tuple\n",
        "# Syntax - count()\n",
        "x = thistuple.count(5)\n",
        "print(x)\n",
        "\n",
        "\n",
        "print('-----Index method-----')\n",
        "# 1. Index method - Searches the tuple for a specified value and returns the position of where it was found\n",
        "# Syntax - index()\n",
        "x = thistuple.index(2)\n",
        "print(x)\n"
      ],
      "execution_count": null,
      "outputs": [
        {
          "output_type": "stream",
          "name": "stdout",
          "text": [
            "(1, 2, 3, 4)\n",
            "<class 'tuple'>\n",
            "-----Count method-----\n",
            "0\n",
            "-----Index method-----\n",
            "1\n"
          ]
        }
      ]
    },
    {
      "cell_type": "code",
      "source": [
        "my_tuple = (4, 2, 3, [6, 5])\n",
        "#print(my_tuple[3][1])\n",
        "del my_tuple\n",
        "print(my_tuple)"
      ],
      "metadata": {
        "id": "PBxcSt02XWaK",
        "colab": {
          "base_uri": "https://localhost:8080/",
          "height": 200
        },
        "outputId": "260431f4-f8e6-45c7-f4fb-94e30a7713db"
      },
      "execution_count": null,
      "outputs": [
        {
          "output_type": "error",
          "ename": "NameError",
          "evalue": "ignored",
          "traceback": [
            "\u001b[0;31m---------------------------------------------------------------------------\u001b[0m",
            "\u001b[0;31mNameError\u001b[0m                                 Traceback (most recent call last)",
            "\u001b[0;32m<ipython-input-16-9b42ec03cc4f>\u001b[0m in \u001b[0;36m<module>\u001b[0;34m\u001b[0m\n\u001b[1;32m      2\u001b[0m \u001b[0;31m#print(my_tuple[3][1])\u001b[0m\u001b[0;34m\u001b[0m\u001b[0;34m\u001b[0m\u001b[0m\n\u001b[1;32m      3\u001b[0m \u001b[0;32mdel\u001b[0m \u001b[0mmy_tuple\u001b[0m\u001b[0;34m\u001b[0m\u001b[0;34m\u001b[0m\u001b[0m\n\u001b[0;32m----> 4\u001b[0;31m \u001b[0mprint\u001b[0m\u001b[0;34m(\u001b[0m\u001b[0mmy_tuple\u001b[0m\u001b[0;34m)\u001b[0m\u001b[0;34m\u001b[0m\u001b[0;34m\u001b[0m\u001b[0m\n\u001b[0m",
            "\u001b[0;31mNameError\u001b[0m: name 'my_tuple' is not defined"
          ]
        }
      ]
    },
    {
      "cell_type": "code",
      "source": [
        "my_tuple = ('a', 'p', 'p', 'l', 'e',) # Membership test in tuple\n",
        "print('a' in my_tuple)\n",
        "print('b' in my_tuple)\n",
        "print('g' not in my_tuple)"
      ],
      "metadata": {
        "id": "rj5OpSjPYlFF",
        "outputId": "89ec707f-5f70-44cd-dfb4-7e9ed2ade73e",
        "colab": {
          "base_uri": "https://localhost:8080/"
        }
      },
      "execution_count": null,
      "outputs": [
        {
          "output_type": "stream",
          "name": "stdout",
          "text": [
            "True\n",
            "False\n",
            "True\n"
          ]
        }
      ]
    },
    {
      "cell_type": "code",
      "source": [
        "del my_tuple[3]"
      ],
      "metadata": {
        "colab": {
          "base_uri": "https://localhost:8080/",
          "height": 165
        },
        "id": "hQ8XwgLxYHRt",
        "outputId": "20bb62a4-fa11-44ff-e804-bcf356167e77"
      },
      "execution_count": null,
      "outputs": [
        {
          "output_type": "error",
          "ename": "TypeError",
          "evalue": "ignored",
          "traceback": [
            "\u001b[0;31m---------------------------------------------------------------------------\u001b[0m",
            "\u001b[0;31mTypeError\u001b[0m                                 Traceback (most recent call last)",
            "\u001b[0;32m<ipython-input-24-8716aa5eaea2>\u001b[0m in \u001b[0;36m<module>\u001b[0;34m\u001b[0m\n\u001b[0;32m----> 1\u001b[0;31m \u001b[0;32mdel\u001b[0m \u001b[0mmy_tuple\u001b[0m\u001b[0;34m[\u001b[0m\u001b[0;36m3\u001b[0m\u001b[0;34m]\u001b[0m\u001b[0;34m\u001b[0m\u001b[0;34m\u001b[0m\u001b[0m\n\u001b[0m",
            "\u001b[0;31mTypeError\u001b[0m: 'tuple' object doesn't support item deletion"
          ]
        }
      ]
    },
    {
      "cell_type": "code",
      "source": [
        "print(my_tuple)"
      ],
      "metadata": {
        "colab": {
          "base_uri": "https://localhost:8080/",
          "height": 165
        },
        "id": "1g1NzSPkX1Uw",
        "outputId": "d3e08a61-6e98-4d5e-dc34-d1e269bd0540"
      },
      "execution_count": null,
      "outputs": [
        {
          "output_type": "error",
          "ename": "NameError",
          "evalue": "ignored",
          "traceback": [
            "\u001b[0;31m---------------------------------------------------------------------------\u001b[0m",
            "\u001b[0;31mNameError\u001b[0m                                 Traceback (most recent call last)",
            "\u001b[0;32m<ipython-input-22-a32cbb859ab4>\u001b[0m in \u001b[0;36m<module>\u001b[0;34m\u001b[0m\n\u001b[0;32m----> 1\u001b[0;31m \u001b[0mprint\u001b[0m\u001b[0;34m(\u001b[0m\u001b[0mmy_tuple\u001b[0m\u001b[0;34m)\u001b[0m\u001b[0;34m\u001b[0m\u001b[0;34m\u001b[0m\u001b[0m\n\u001b[0m",
            "\u001b[0;31mNameError\u001b[0m: name 'my_tuple' is not defined"
          ]
        }
      ]
    },
    {
      "cell_type": "code",
      "source": [
        "# Concatenation\n",
        "print((1, 2, 3) + (4, 5, 6))\n",
        "# Repeat\n",
        "print((\"Repeat\",) * 3)"
      ],
      "metadata": {
        "colab": {
          "base_uri": "https://localhost:8080/"
        },
        "id": "dWfKibX4FFP0",
        "outputId": "9f42cac6-9624-4e70-e648-a85ccb8d0e0f"
      },
      "execution_count": null,
      "outputs": [
        {
          "output_type": "stream",
          "name": "stdout",
          "text": [
            "(1, 2, 3, 4, 5, 6)\n",
            "('Repeat', 'Repeat', 'Repeat')\n"
          ]
        }
      ]
    },
    {
      "cell_type": "code",
      "source": [
        "#For loop\n",
        "for name in ('John', 'Kate'):\n",
        "  print(\"Hello\", name)"
      ],
      "metadata": {
        "colab": {
          "base_uri": "https://localhost:8080/"
        },
        "id": "Wnw8s8XRFFN4",
        "outputId": "3a8a23cd-6b50-462b-eb8b-b788d64939a0"
      },
      "execution_count": null,
      "outputs": [
        {
          "output_type": "stream",
          "name": "stdout",
          "text": [
            "Hello John\n",
            "Hello Kate\n"
          ]
        }
      ]
    },
    {
      "cell_type": "markdown",
      "metadata": {
        "id": "ZUNVGJXVkIfQ"
      },
      "source": [
        "# **Dictionary**\n",
        "\n",
        "-> It is a collection which is unordered, changeable and indexed.\n",
        "\n",
        "-> In Python, Dictionaries are written with curly brackets. '{}'\n",
        "\n",
        "-> It has Key and value pair.\n",
        "\n",
        "-> We can access the items of a dictionary by referring to its key name, inside square brackets. "
      ]
    },
    {
      "cell_type": "code",
      "source": [
        "#Dictionary\n",
        "\n",
        "car={'Brand':'BMW','Model':'X6', 'Year':2019, 'Brand':'Audi'}\n",
        "c1={'Brand':'Mercedes','Model':'Benz', 'Year':2018}\n",
        "print(car)\n",
        "print(type(car))"
      ],
      "metadata": {
        "colab": {
          "base_uri": "https://localhost:8080/"
        },
        "id": "8nlr0-cuMz56",
        "outputId": "ac8de1fa-cdbb-4c2e-c980-2ef097e41145"
      },
      "execution_count": null,
      "outputs": [
        {
          "output_type": "stream",
          "name": "stdout",
          "text": [
            "{'Brand': 'Audi', 'Model': 'X6', 'Year': 2019}\n",
            "<class 'dict'>\n"
          ]
        }
      ]
    },
    {
      "cell_type": "code",
      "source": [
        "print(car[\"Model\"])"
      ],
      "metadata": {
        "colab": {
          "base_uri": "https://localhost:8080/"
        },
        "id": "9DuCMKbed5_X",
        "outputId": "ebd50178-a6d6-4b2f-e1c5-bbc2faeefc99"
      },
      "execution_count": null,
      "outputs": [
        {
          "output_type": "stream",
          "name": "stdout",
          "text": [
            "X6\n"
          ]
        }
      ]
    },
    {
      "cell_type": "code",
      "source": [
        "print('-----Clear method-----')\n",
        "# 1. Clear method - Removes all the elements from the dictionary\n",
        "#Syntax - items()\n",
        "c1.clear()\n",
        "print(c1)"
      ],
      "metadata": {
        "colab": {
          "base_uri": "https://localhost:8080/"
        },
        "id": "fwpEQIwdNDro",
        "outputId": "5a4e11a3-fc13-434b-dc35-4b980e468c82"
      },
      "execution_count": null,
      "outputs": [
        {
          "output_type": "stream",
          "name": "stdout",
          "text": [
            "-----Clear method-----\n",
            "{}\n"
          ]
        }
      ]
    },
    {
      "cell_type": "code",
      "source": [
        "print('-----Copy method-----')\n",
        "# 2. Copy method - Returns a copy of the dictionary\n",
        "#Syntax - copy()\n",
        "x = car.copy()\n",
        "print(x)"
      ],
      "metadata": {
        "colab": {
          "base_uri": "https://localhost:8080/"
        },
        "id": "_uPW3jaNNI5T",
        "outputId": "81494676-33fe-476f-dfa7-8d71bfc529c8"
      },
      "execution_count": null,
      "outputs": [
        {
          "output_type": "stream",
          "name": "stdout",
          "text": [
            "-----Copy method-----\n",
            "{'Brand': 'Audi', 'Model': 'X6', 'Year': 2019}\n"
          ]
        }
      ]
    },
    {
      "cell_type": "code",
      "source": [
        "print('-----Items method-----')\n",
        "# 3. Items method - Returns a list containing a tuple for each key value pair\n",
        "#Syntax - items()\n",
        "print(car.items())"
      ],
      "metadata": {
        "colab": {
          "base_uri": "https://localhost:8080/"
        },
        "id": "WpYyn2H_NR4Z",
        "outputId": "a727bc18-0f33-4ce8-a7d4-5924c6e30257"
      },
      "execution_count": null,
      "outputs": [
        {
          "output_type": "stream",
          "name": "stdout",
          "text": [
            "-----Items method-----\n",
            "dict_items([('Brand', 'Audi'), ('Model', 'X6'), ('Year', 2019)])\n"
          ]
        }
      ]
    },
    {
      "cell_type": "code",
      "source": [
        "print('-----Popitem method-----')\n",
        "# 4. Popitem method - Removes the last inserted key-value pair\n",
        "#Syntax - popitem()\n",
        "car.popitem()\n",
        "print(car)"
      ],
      "metadata": {
        "colab": {
          "base_uri": "https://localhost:8080/"
        },
        "id": "SIq7ZmBsNf6M",
        "outputId": "54495877-7820-4174-af3d-7ba1c5ae495e"
      },
      "execution_count": null,
      "outputs": [
        {
          "output_type": "stream",
          "name": "stdout",
          "text": [
            "-----Popitem method-----\n",
            "{'Brand': 'Audi', 'Model': 'X6'}\n"
          ]
        }
      ]
    },
    {
      "cell_type": "code",
      "source": [
        "print('-----setdefault method-----')\n",
        "# 5. setdefault method - Returns the value of the specified key. If the key does not exist: insert the key, with the specified value\n",
        "#Syntax - setdefault(keyname, value)\n",
        "x1 = car.setdefault(\"Year\", 2020)\n",
        "print(x1)"
      ],
      "metadata": {
        "colab": {
          "base_uri": "https://localhost:8080/"
        },
        "id": "uEXztuQCNti5",
        "outputId": "2aeba31e-0bd5-4e04-d84c-0a498c01b5ee"
      },
      "execution_count": null,
      "outputs": [
        {
          "output_type": "stream",
          "name": "stdout",
          "text": [
            "-----setdefault method-----\n",
            "2020\n"
          ]
        }
      ]
    },
    {
      "cell_type": "code",
      "source": [
        "print(car)"
      ],
      "metadata": {
        "colab": {
          "base_uri": "https://localhost:8080/"
        },
        "id": "TEjngRQBY7RX",
        "outputId": "ca836a63-d472-4bc7-c4ae-9bf1a190a1c8"
      },
      "execution_count": null,
      "outputs": [
        {
          "output_type": "stream",
          "name": "stdout",
          "text": [
            "{'Brand': 'Audi', 'Model': 'X6', 'Year': 2020}\n"
          ]
        }
      ]
    },
    {
      "cell_type": "code",
      "source": [
        "print(car['Year'])"
      ],
      "metadata": {
        "colab": {
          "base_uri": "https://localhost:8080/"
        },
        "id": "3IiSuWzQNyEA",
        "outputId": "314d3759-1c4a-4bc8-a316-51e5a3c5628d"
      },
      "execution_count": null,
      "outputs": [
        {
          "output_type": "stream",
          "name": "stdout",
          "text": [
            "2020\n"
          ]
        }
      ]
    },
    {
      "cell_type": "code",
      "source": [
        "print('-----update method-----')\n",
        "# 6. update method - Returns a list containing a tuple for each key value pair\n",
        "#Syntax - update(iterable)\n",
        "car.update({\"Year\": 2021})\n",
        "print(car)"
      ],
      "metadata": {
        "colab": {
          "base_uri": "https://localhost:8080/"
        },
        "id": "Elv7ft4sONDU",
        "outputId": "5123d2be-139b-41ce-e8b5-0a38cae5e2ca"
      },
      "execution_count": null,
      "outputs": [
        {
          "output_type": "stream",
          "name": "stdout",
          "text": [
            "-----update method-----\n",
            "{'Brand': 'Audi', 'Model': 'X6', 'Year': 2021, 'color': 'White'}\n"
          ]
        }
      ]
    },
    {
      "cell_type": "code",
      "metadata": {
        "id": "DxSy5_53kiX4",
        "colab": {
          "base_uri": "https://localhost:8080/"
        },
        "outputId": "4cd003ed-89a9-4756-c1de-9d231269621b"
      },
      "source": [
        "#Dictionary\n",
        "\n",
        "car={'Brand':'BMW','Model':'X6', 'Year':2019}\n",
        "c1={'Brand':'Mercedes','Model':'Benz', 'Year':2018}\n",
        "print(car)\n",
        "print(type(car))\n",
        "\n",
        "#Dictionary Methods\n",
        "\n",
        "print('-----Clear method-----')\n",
        "# 1. Clear method - Removes all the elements from the dictionary\n",
        "#Syntax - items()\n",
        "c1.clear()\n",
        "print(c1)\n",
        "\n",
        "print('-----Copy method-----')\n",
        "# 2. Copy method - Returns a copy of the dictionary\n",
        "#Syntax - copy()\n",
        "x = car.copy()\n",
        "print(x)\n",
        "\n",
        "print('-----Items method-----')\n",
        "# 3. Items method - Returns a list containing a tuple for each key value pair\n",
        "#Syntax - items()\n",
        "print(car.items())\n",
        "\n",
        "print('-----Popitem method-----')\n",
        "# 4. Popitem method - Removes the last inserted key-value pair\n",
        "#Syntax - popitem()\n",
        "car.popitem()\n",
        "print(car)\n",
        "\n",
        "print('-----setdefault method-----')\n",
        "# 5. setdefault method - Returns the value of the specified key. If the key does not exist: insert the key, with the specified value\n",
        "#Syntax - setdefault(keyname, value)\n",
        "x1 = car.setdefault(\"model\", \"Audi AQ\")\n",
        "print(x1)\n",
        "\n",
        "print('-----update method-----')\n",
        "# 6. update method - Returns a list containing a tuple for each key value pair\n",
        "#Syntax - update(iterable)\n",
        "car.update({\"color\": \"White\"})\n",
        "print(car)\n",
        "\n",
        "print('-----Value method-----')\n",
        "# 7. Value method - Returns a list of all the values in the dictionary\n",
        "#Syntax - values()\n",
        "print(car.values())\n",
        "\n",
        "\n",
        "print('-----Fromkeys method-----')\n",
        "# 8. Fromkeys method - Returns a dictionary with the specified keys and value\n",
        "#Syntax - fromkeys(keys, value)\n",
        "x = ('key1', 'key2', 'key3')\n",
        "y = 0\n",
        "thisdict = dict.fromkeys(x, y)\n",
        "print(thisdict)\n",
        "\n",
        "print('-----Get method-----')\n",
        "# 9. Get method - Returns the value of the specified key\n",
        "#Syntax - get(keyname, value)\n",
        "x = car.get(\"model\")\n",
        "print(x)\n",
        "\n",
        "print('-----Pop method-----')\n",
        "# 10. Pop method - Removes the element with the specified key\n",
        "#Syntax - pop(keyname, defaultvalue)\n",
        "car.pop(\"model\")\n",
        "print(car)\n",
        "\n",
        "print('-----Keys method-----')\n",
        "# 10. Keys method - Returns a list containing the dictionary's keys\n",
        "#Syntax - keys()\n",
        "x2 = car.keys()\n",
        "print(x2)\n"
      ],
      "execution_count": null,
      "outputs": [
        {
          "output_type": "stream",
          "text": [
            "{'Brand': 'BMW', 'Model': 'X6', 'Year': 2019}\n",
            "<class 'dict'>\n",
            "-----Clear method-----\n",
            "{}\n",
            "-----Copy method-----\n",
            "{'Brand': 'BMW', 'Model': 'X6', 'Year': 2019}\n",
            "-----Items method-----\n",
            "dict_items([('Brand', 'BMW'), ('Model', 'X6'), ('Year', 2019)])\n",
            "-----Popitem method-----\n",
            "{'Brand': 'BMW', 'Model': 'X6'}\n",
            "-----setdefault method-----\n",
            "Audi AQ\n",
            "-----update method-----\n",
            "{'Brand': 'BMW', 'Model': 'X6', 'model': 'Audi AQ', 'color': 'White'}\n",
            "-----Value method-----\n",
            "dict_values(['BMW', 'X6', 'Audi AQ', 'White'])\n",
            "-----Fromkeys method-----\n",
            "{'key1': 0, 'key2': 0, 'key3': 0}\n",
            "-----Get method-----\n",
            "Audi AQ\n",
            "-----Pop method-----\n",
            "{'Brand': 'BMW', 'Model': 'X6', 'color': 'White'}\n",
            "-----Keys method-----\n",
            "dict_keys(['Brand', 'Model', 'color'])\n"
          ],
          "name": "stdout"
        }
      ]
    },
    {
      "cell_type": "code",
      "source": [
        "print('-----Keys method-----')\n",
        "# 10. Keys method - Returns a list containing the dictionary's keys\n",
        "#Syntax - keys()\n",
        "x2 = car.keys()\n",
        "print(x2)"
      ],
      "metadata": {
        "colab": {
          "base_uri": "https://localhost:8080/"
        },
        "id": "tauSilczPCKL",
        "outputId": "9c0080de-61d5-44be-ae11-f7624985f876"
      },
      "execution_count": null,
      "outputs": [
        {
          "output_type": "stream",
          "name": "stdout",
          "text": [
            "-----Keys method-----\n",
            "dict_keys(['Brand', 'Model', 'Year', 'color'])\n"
          ]
        }
      ]
    },
    {
      "cell_type": "code",
      "source": [
        "print('-----Pop method-----')\n",
        "# 10. Pop method - Removes the element with the specified key\n",
        "#Syntax - pop(keyname, defaultvalue)\n",
        "car.pop(\"Model\")\n",
        "print(car)"
      ],
      "metadata": {
        "colab": {
          "base_uri": "https://localhost:8080/"
        },
        "id": "n4bBuXEGO53i",
        "outputId": "db1f89df-7f98-4ec8-d932-377a48619ce2"
      },
      "execution_count": null,
      "outputs": [
        {
          "output_type": "stream",
          "name": "stdout",
          "text": [
            "-----Pop method-----\n",
            "{'Brand': 'Audi', 'Year': 2021, 'color': 'White'}\n"
          ]
        }
      ]
    },
    {
      "cell_type": "code",
      "source": [
        "print('-----Get method-----')\n",
        "# 9. Get method - Returns the value of the specified key\n",
        "#Syntax - get(keyname, value)\n",
        "x = car.get(\"Brand\")\n",
        "print(x)"
      ],
      "metadata": {
        "colab": {
          "base_uri": "https://localhost:8080/"
        },
        "id": "1HffLZ5xO0Mf",
        "outputId": "e5af4d77-a84e-40c6-92fc-df297f6efaee"
      },
      "execution_count": null,
      "outputs": [
        {
          "output_type": "stream",
          "name": "stdout",
          "text": [
            "-----Get method-----\n",
            "Audi\n"
          ]
        }
      ]
    },
    {
      "cell_type": "code",
      "source": [
        "print('-----Fromkeys method-----')\n",
        "# 8. Fromkeys method - Returns a dictionary with the specified keys and value\n",
        "#Syntax - fromkeys(keys, value)\n",
        "x = ('key1', 'key2', 'key3')\n",
        "y = 0\n",
        "thisdict = dict.fromkeys(x, y)\n",
        "print(thisdict)"
      ],
      "metadata": {
        "colab": {
          "base_uri": "https://localhost:8080/"
        },
        "id": "1mgd7qoEOq2i",
        "outputId": "9ab87f5f-03f4-4a43-eed4-c9f294e864e0"
      },
      "execution_count": null,
      "outputs": [
        {
          "output_type": "stream",
          "name": "stdout",
          "text": [
            "-----Fromkeys method-----\n",
            "{'key1': 0, 'key2': 0, 'key3': 0}\n"
          ]
        }
      ]
    },
    {
      "cell_type": "code",
      "source": [
        "print('-----Value method-----')\n",
        "# 7. Value method - Returns a list of all the values in the dictionary\n",
        "#Syntax - values()\n",
        "print(car.values())"
      ],
      "metadata": {
        "colab": {
          "base_uri": "https://localhost:8080/"
        },
        "id": "2hVvKTbYOb-b",
        "outputId": "eeff7c38-9bcc-4e82-cfe5-dd2087fb61a3"
      },
      "execution_count": null,
      "outputs": [
        {
          "output_type": "stream",
          "name": "stdout",
          "text": [
            "-----Value method-----\n",
            "dict_values(['Audi', 2021, 'White'])\n"
          ]
        }
      ]
    },
    {
      "cell_type": "code",
      "source": [
        "Employee = {\"Name\": \"Sundar\", \"Age\": 29, \"salary\":25000,\"Company\":\"GOOGLE\"}\n",
        "print(\"Type of Object:\", type(Employee))\n",
        "print(\"Printing Employee data .... \")\n",
        "print(Employee)\n",
        "print(\"Enter the details of the new employee....\")\n",
        "Employee[\"Name\"] = input(\"Name: \")\n",
        "Employee[\"Age\"] = int(input(\"Age: \"))\n",
        "Employee[\"salary\"] = int(input(\"Salary: \"))\n",
        "Employee[\"Company\"] = input(\"Company:\")\n",
        "print(\"\\nPrinting the new data...\")\n",
        "print(Employee)"
      ],
      "metadata": {
        "colab": {
          "base_uri": "https://localhost:8080/"
        },
        "id": "DOTlrXDuRZJF",
        "outputId": "1fc0ec73-5337-4281-acb4-a7250098c375"
      },
      "execution_count": null,
      "outputs": [
        {
          "name": "stdout",
          "output_type": "stream",
          "text": [
            "Type of Object: <class 'dict'>\n",
            "Printing Employee data .... \n",
            "{'Name': 'Sundar', 'Age': 29, 'salary': 25000, 'Company': 'GOOGLE'}\n",
            "Enter the details of the new employee....\n",
            "Name: Akash\n",
            "Age: 19\n",
            "Salary: 1\n"
          ]
        }
      ]
    },
    {
      "cell_type": "markdown",
      "metadata": {
        "id": "JsdOmsiFmlFZ"
      },
      "source": [
        "# **Set**\n",
        "\n",
        "-> A Set is a collection which is unordered (items will appear in random number) and unidexed.\n",
        "\n",
        "-> In Python, set are written with curly brackets. '{}'"
      ]
    },
    {
      "cell_type": "code",
      "source": [
        "# Set\n",
        "\n",
        "comp={'Microsoft','Google','IBM'}\n",
        "print(comp)\n",
        "print(type(comp))"
      ],
      "metadata": {
        "colab": {
          "base_uri": "https://localhost:8080/"
        },
        "id": "inhGOEbneugS",
        "outputId": "14f6679b-f6cb-42a1-cd82-df78d965ddbf"
      },
      "execution_count": null,
      "outputs": [
        {
          "output_type": "stream",
          "name": "stdout",
          "text": [
            "{'Google', 'IBM', 'Microsoft'}\n",
            "<class 'set'>\n"
          ]
        }
      ]
    },
    {
      "cell_type": "code",
      "source": [
        "print('-----Add method-----')\n",
        "# 1. Add method - Adds an element to the set\n",
        "#Syntax - add()\n",
        "comp.add(\"Facebook\")\n",
        "print(comp)"
      ],
      "metadata": {
        "colab": {
          "base_uri": "https://localhost:8080/"
        },
        "id": "GgwjynqLfF9d",
        "outputId": "35f009f8-aa08-4c03-d8a7-ba8dafbb7fd1"
      },
      "execution_count": null,
      "outputs": [
        {
          "output_type": "stream",
          "name": "stdout",
          "text": [
            "-----Add method-----\n",
            "{'Facebook', 'Google', 'IBM', 'Microsoft'}\n"
          ]
        }
      ]
    },
    {
      "cell_type": "code",
      "source": [
        "print('-----Clear method-----')\n",
        "# 2. Clear method - Removes all the elements from the set\n",
        "#Syntax - clear()\n",
        "fruits = {\"apple\", \"banana\", \"cherry\"}\n",
        "fruits.clear()\n",
        "print(fruits)"
      ],
      "metadata": {
        "colab": {
          "base_uri": "https://localhost:8080/"
        },
        "id": "WIdoJHwofS5d",
        "outputId": "d02e0def-6efa-400f-f9df-3c9e97ccaa53"
      },
      "execution_count": null,
      "outputs": [
        {
          "output_type": "stream",
          "name": "stdout",
          "text": [
            "-----Clear method-----\n",
            "set()\n"
          ]
        }
      ]
    },
    {
      "cell_type": "code",
      "source": [
        "print('-----Copy method-----')\n",
        "# 3. Copy method - Returns a copy of the set\n",
        "#Syntax - copy()\n",
        "x1 = comp.copy()\n",
        "print(x1)"
      ],
      "metadata": {
        "colab": {
          "base_uri": "https://localhost:8080/"
        },
        "id": "wcHqTSybfZsr",
        "outputId": "25a369d1-1924-4003-f19b-bef23d197fb4"
      },
      "execution_count": null,
      "outputs": [
        {
          "output_type": "stream",
          "name": "stdout",
          "text": [
            "-----Copy method-----\n",
            "{'Facebook', 'Google', 'IBM', 'Microsoft'}\n"
          ]
        }
      ]
    },
    {
      "cell_type": "code",
      "source": [
        "print('-----Difference method-----')\n",
        "# 4. Difference method - Returns a set containing the difference between two or more sets\n",
        "#Syntax - difference(set)\n",
        "x = {\"apple\", \"banana\", \"cherry\"}\n",
        "y = {\"google\", \"microsoft\", \"apple\"}\n",
        "z = x.difference(y)\n",
        "print(z)"
      ],
      "metadata": {
        "colab": {
          "base_uri": "https://localhost:8080/"
        },
        "id": "ALOvbMMRfmlO",
        "outputId": "5a345b3e-506a-4148-e8af-b6fed3bc0d51"
      },
      "execution_count": null,
      "outputs": [
        {
          "output_type": "stream",
          "name": "stdout",
          "text": [
            "-----Difference method-----\n",
            "{'banana', 'cherry'}\n"
          ]
        }
      ]
    },
    {
      "cell_type": "code",
      "source": [
        "print('-----Difference_update method-----')\n",
        "# 5. Difference_update - Adds an element to the set\n",
        "#Syntax - difference_update(set)\n",
        "x = {\"apple\", \"banana\", \"cherry\"}\n",
        "y = {\"google\", \"microsoft\", \"apple\"}\n",
        "x.difference_update(y)\n",
        "print(x)"
      ],
      "metadata": {
        "colab": {
          "base_uri": "https://localhost:8080/"
        },
        "id": "sN0_kXjPf6ij",
        "outputId": "3702931b-8077-4481-8e48-28f300cef2d6"
      },
      "execution_count": null,
      "outputs": [
        {
          "output_type": "stream",
          "name": "stdout",
          "text": [
            "-----Difference_update method-----\n",
            "{'banana', 'cherry'}\n"
          ]
        }
      ]
    },
    {
      "cell_type": "code",
      "source": [
        "print('-----Discard method-----')\n",
        "# 6. Discard method - Removes the specified item from the set\n",
        "#Syntax - discard(value)\n",
        "x.discard(\"banana\")\n",
        "print(x)"
      ],
      "metadata": {
        "colab": {
          "base_uri": "https://localhost:8080/"
        },
        "id": "1RnGaJ5agG4l",
        "outputId": "ff661697-bf33-4a5c-993a-3ac86b83e76a"
      },
      "execution_count": null,
      "outputs": [
        {
          "output_type": "stream",
          "name": "stdout",
          "text": [
            "-----Discard method-----\n",
            "{'cherry'}\n"
          ]
        }
      ]
    },
    {
      "cell_type": "code",
      "source": [
        "print('-----Intersection method-----')\n",
        "# 7. Intersection method - Method returns a set that contains the similarity between two or more sets\n",
        "#Syntax - intersection(set1, set2)\n",
        "x = {\"apple\", \"banana\", \"cherry\"}\n",
        "y = {\"google\", \"microsoft\", \"apple\"}\n",
        "z = x.intersection(y)\n",
        "print(z)"
      ],
      "metadata": {
        "colab": {
          "base_uri": "https://localhost:8080/"
        },
        "id": "5u4edTZhgPM8",
        "outputId": "540adbee-eee3-4328-91b6-cae19b196592"
      },
      "execution_count": null,
      "outputs": [
        {
          "output_type": "stream",
          "name": "stdout",
          "text": [
            "-----Intersection method-----\n",
            "{'apple'}\n"
          ]
        }
      ]
    },
    {
      "cell_type": "code",
      "source": [
        "print('-----Intersection_update method-----')\n",
        "# 8. Intersection_update method - Method removes the items that is not present in both sets (or in all sets if the comparison is done between more than two sets\n",
        "#Syntax - intersection_update(set1, set2)\n",
        "x = {\"apple\", \"banana\", \"cherry\"}\n",
        "y = {\"google\", \"microsoft\", \"apple\"}\n",
        "x.intersection_update(y)\n",
        "print(x)"
      ],
      "metadata": {
        "colab": {
          "base_uri": "https://localhost:8080/"
        },
        "id": "JNXEKbJngVm6",
        "outputId": "1e9a896f-2dd0-4022-d460-b7e370e698a2"
      },
      "execution_count": null,
      "outputs": [
        {
          "output_type": "stream",
          "name": "stdout",
          "text": [
            "-----Intersection_update method-----\n",
            "{'apple'}\n"
          ]
        }
      ]
    },
    {
      "cell_type": "code",
      "source": [
        "print('-----IsDisjoin method-----')\n",
        "# 9. isdisjoint method - Returns whether two sets have a intersection or not\n",
        "#Syntax - isdisjoint(set)\n",
        "x = {\"apple\", \"banana\", \"cherry\"}\n",
        "y = {\"google\", \"microsoft\", \"facebook\"}\n",
        "z = x.isdisjoint(y)\n",
        "print(z)"
      ],
      "metadata": {
        "colab": {
          "base_uri": "https://localhost:8080/"
        },
        "id": "BgKfuUVCgiyD",
        "outputId": "c03c24e9-d691-42f1-d60f-51fc18ff8303"
      },
      "execution_count": null,
      "outputs": [
        {
          "output_type": "stream",
          "name": "stdout",
          "text": [
            "-----IsDisjoin method-----\n",
            "True\n"
          ]
        }
      ]
    },
    {
      "cell_type": "code",
      "source": [
        "print('-----IsSubset method-----')\n",
        "# 10. issubset method - Returns whether another set contains this set or not\n",
        "#Syntax - issubset(set)\n",
        "x = {\"a\", \"b\", \"c\"}\n",
        "y = {\"f\", \"e\", \"d\", \"c\", \"b\", \"a\"}\n",
        "z = x.issubset(y)\n",
        "print(z)"
      ],
      "metadata": {
        "colab": {
          "base_uri": "https://localhost:8080/"
        },
        "id": "9Pko7r0bgtLT",
        "outputId": "2abc9376-1df5-4b3d-d26e-60e081220ef5"
      },
      "execution_count": null,
      "outputs": [
        {
          "output_type": "stream",
          "name": "stdout",
          "text": [
            "-----IsSubset method-----\n",
            "True\n"
          ]
        }
      ]
    },
    {
      "cell_type": "code",
      "source": [
        "print('-----IsSuperset method-----')\n",
        "# 11. issuperset method - Returns whether this set contains another set or not\n",
        "#Syntax - issuperset(set)\n",
        "x = {\"f\", \"e\", \"d\", \"c\", \"b\", \"a\"}\n",
        "y = {\"a\", \"b\", \"c\"}\n",
        "z = y.issuperset(x)\n",
        "print(z)"
      ],
      "metadata": {
        "colab": {
          "base_uri": "https://localhost:8080/"
        },
        "id": "rO-FSlWahC24",
        "outputId": "0a6d5b27-59cb-4c48-d13f-ba5124bb24b4"
      },
      "execution_count": null,
      "outputs": [
        {
          "output_type": "stream",
          "name": "stdout",
          "text": [
            "-----IsSuperset method-----\n",
            "False\n"
          ]
        }
      ]
    },
    {
      "cell_type": "code",
      "metadata": {
        "id": "sIIZDvvxm7YJ",
        "colab": {
          "base_uri": "https://localhost:8080/"
        },
        "outputId": "89262a90-dbad-49af-f594-e50661caa79d"
      },
      "source": [
        "# Set\n",
        "\n",
        "comp={'Microsoft','Google','IBM'}\n",
        "print(comp)\n",
        "print(type(comp))\n",
        "\n",
        "# Set methods \n",
        "\n",
        "print('-----Add method-----')\n",
        "# 1. Add method - Adds an element to the set\n",
        "#Syntax - add()\n",
        "comp.add(\"Facebook\")\n",
        "print(comp)\n",
        "\n",
        "print('-----Clear method-----')\n",
        "# 2. Clear method - Removes all the elements from the set\n",
        "#Syntax - clear()\n",
        "fruits = {\"apple\", \"banana\", \"cherry\"}\n",
        "fruits.clear()\n",
        "print(fruits)\n",
        "\n",
        "print('-----Copy method-----')\n",
        "# 3. Copy method - Returns a copy of the set\n",
        "#Syntax - copy()\n",
        "x1 = comp.copy()\n",
        "print(x1)\n",
        "\n",
        "print('-----Difference method-----')\n",
        "# 4. Difference method - Returns a set containing the difference between two or more sets\n",
        "#Syntax - difference(set)\n",
        "x = {\"apple\", \"banana\", \"cherry\"}\n",
        "y = {\"google\", \"microsoft\", \"apple\"}\n",
        "z = x.difference(y)\n",
        "print(z)\n",
        "\n",
        "print('-----Difference_update method-----')\n",
        "# 5. Difference_update - Adds an element to the set\n",
        "#Syntax - difference_update(set)\n",
        "x = {\"apple\", \"banana\", \"cherry\"}\n",
        "y = {\"google\", \"microsoft\", \"apple\"}\n",
        "x.difference_update(y)\n",
        "print(x)\n",
        "\n",
        "print('-----Discard method-----')\n",
        "# 6. Discard method - Removes the specified item from the set\n",
        "#Syntax - discard(value)\n",
        "x.discard(\"banana\")\n",
        "print(x)\n",
        "\n",
        "print('-----Intersection method-----')\n",
        "# 7. Intersection method - Method returns a set that contains the similarity between two or more sets\n",
        "#Syntax - intersection(set1, set2)\n",
        "x = {\"apple\", \"banana\", \"cherry\"}\n",
        "y = {\"google\", \"microsoft\", \"apple\"}\n",
        "z = x.intersection(y)\n",
        "print(z)\n",
        "\n",
        "print('-----Intersection_update method-----')\n",
        "# 8. Intersection_update method - Method removes the items that is not present in both sets (or in all sets if the comparison is done between more than two sets\n",
        "#Syntax - intersection_update(set1, set2)\n",
        "x = {\"apple\", \"banana\", \"cherry\"}\n",
        "y = {\"google\", \"microsoft\", \"apple\"}\n",
        "x.intersection_update(y)\n",
        "print(x)\n",
        "\n",
        "print('-----IsDisjoin method-----')\n",
        "# 9. isdisjoint method - Returns whether two sets have a intersection or not\n",
        "#Syntax - isdisjoint(set)\n",
        "x = {\"apple\", \"banana\", \"cherry\"}\n",
        "y = {\"google\", \"microsoft\", \"facebook\"}\n",
        "z = x.isdisjoint(y)\n",
        "print(z)\n",
        "\n",
        "print('-----IsSubset method-----')\n",
        "# 10. issubset method - Returns whether another set contains this set or not\n",
        "#Syntax - issubset(set)\n",
        "x = {\"a\", \"b\", \"c\"}\n",
        "y = {\"f\", \"e\", \"d\", \"c\", \"b\", \"a\"}\n",
        "z = x.issubset(y)\n",
        "print(z)\n",
        "\n",
        "\n",
        "print('-----IsSuperset method-----')\n",
        "# 11. issuperset method - Returns whether this set contains another set or not\n",
        "#Syntax - issuperset(set)\n",
        "x = {\"f\", \"e\", \"d\", \"c\", \"b\", \"a\"}\n",
        "y = {\"a\", \"b\", \"c\"}\n",
        "z = x.issuperset(y)\n",
        "print(z)\n",
        "\n",
        "print('-----Pop method-----')\n",
        "# 12. pop method - Removes an element from the set\n",
        "#Syntax - pop()\n",
        "fruits = {\"apple\", \"banana\", \"cherry\"}\n",
        "fruits.pop()\n",
        "print(fruits)\n",
        "\n",
        "print('-----Remove method-----')\n",
        "# 13. remove method - Removes the specified element\n",
        "#Syntax - remove(item)\n",
        "fruits = {\"apple\", \"banana\", \"cherry\"}\n",
        "fruits.remove(\"banana\")\n",
        "print(fruits)\n",
        "\n",
        "print('-----Union method-----')\n",
        "# 14. union method - Return a set containing the union of sets\n",
        "#Syntax - union(set1, set2)\n",
        "x = {\"apple\", \"banana\", \"cherry\"}\n",
        "y = {\"google\", \"microsoft\", \"apple\"}\n",
        "z = x.union(y)\n",
        "print(z)\n",
        "\n",
        "print('-----Update method-----')\n",
        "# 15. update method - Update the set with the union of this set and others\n",
        "#Syntax - update(set)\n",
        "x = {\"apple\", \"banana\", \"cherry\"}\n",
        "y = {\"google\", \"microsoft\", \"apple\"}\n",
        "x.update(y)\n",
        "print(x)\n",
        "\n"
      ],
      "execution_count": null,
      "outputs": [
        {
          "output_type": "stream",
          "text": [
            "{'Google', 'IBM', 'Microsoft'}\n",
            "<class 'set'>\n",
            "-----Add method-----\n",
            "{'Google', 'IBM', 'Microsoft', 'Facebook'}\n",
            "-----Clear method-----\n",
            "set()\n",
            "-----Copy method-----\n",
            "{'Google', 'IBM', 'Microsoft', 'Facebook'}\n",
            "-----Difference method-----\n",
            "{'cherry', 'banana'}\n",
            "-----Difference_update method-----\n",
            "{'cherry', 'banana'}\n",
            "-----Discard method-----\n",
            "{'cherry'}\n",
            "-----Intersection method-----\n",
            "{'apple'}\n",
            "-----Intersection_update method-----\n",
            "{'apple'}\n",
            "-----IsDisjoin method-----\n",
            "True\n",
            "-----IsSubset method-----\n",
            "True\n",
            "-----IsSuperset method-----\n",
            "True\n",
            "-----Pop method-----\n",
            "{'banana', 'apple'}\n",
            "-----Remove method-----\n",
            "{'cherry', 'apple'}\n",
            "-----Union method-----\n",
            "{'google', 'banana', 'cherry', 'microsoft', 'apple'}\n",
            "-----Update method-----\n",
            "{'google', 'banana', 'cherry', 'microsoft', 'apple'}\n"
          ],
          "name": "stdout"
        }
      ]
    },
    {
      "cell_type": "code",
      "source": [
        "print('-----Update method-----')\n",
        "# 15. update method - Update the set with the union of this set and others\n",
        "#Syntax - update(set)\n",
        "x = {\"apple\", \"banana\", \"cherry\"}\n",
        "y = {\"google\", \"microsoft\", \"apple\"}\n",
        "x.update(y)\n",
        "print(x)"
      ],
      "metadata": {
        "id": "HM88F-Quhnw9",
        "colab": {
          "base_uri": "https://localhost:8080/"
        },
        "outputId": "186f7f26-f483-4fc3-e892-a09a2bcf0613"
      },
      "execution_count": null,
      "outputs": [
        {
          "output_type": "stream",
          "name": "stdout",
          "text": [
            "-----Update method-----\n",
            "{'microsoft', 'google', 'banana', 'apple', 'cherry'}\n"
          ]
        }
      ]
    },
    {
      "cell_type": "code",
      "source": [
        "print('-----Union method-----')\n",
        "# 14. union method - Return a set containing the union of sets\n",
        "#Syntax - union(set1, set2)\n",
        "x = {\"apple\", \"banana\", \"cherry\"}\n",
        "y = {\"google\", \"microsoft\", \"apple\"}\n",
        "z = x.union(y)\n",
        "print(z)"
      ],
      "metadata": {
        "colab": {
          "base_uri": "https://localhost:8080/"
        },
        "id": "-tziUJ9ihgc7",
        "outputId": "9fc72399-65cf-4642-9540-4b7a3447e89f"
      },
      "execution_count": null,
      "outputs": [
        {
          "output_type": "stream",
          "name": "stdout",
          "text": [
            "-----Union method-----\n",
            "{'microsoft', 'google', 'banana', 'apple', 'cherry'}\n"
          ]
        }
      ]
    },
    {
      "cell_type": "code",
      "source": [
        "print('-----Remove method-----')\n",
        "# 13. remove method - Removes the specified element\n",
        "#Syntax - remove(item)\n",
        "fruits = {\"apple\", \"banana\", \"cherry\"}\n",
        "fruits.remove(\"banana\")\n",
        "print(fruits)"
      ],
      "metadata": {
        "colab": {
          "base_uri": "https://localhost:8080/"
        },
        "id": "7aPsimEjhavI",
        "outputId": "3efa75ae-b488-4bca-a6db-3702a8a500dc"
      },
      "execution_count": null,
      "outputs": [
        {
          "output_type": "stream",
          "name": "stdout",
          "text": [
            "-----Remove method-----\n",
            "{'apple', 'cherry'}\n"
          ]
        }
      ]
    },
    {
      "cell_type": "code",
      "source": [
        "print('-----Pop method-----')\n",
        "# 12. pop method - Removes an element from the set\n",
        "#Syntax - pop()\n",
        "fruits = {\"apple\", \"banana\", \"cherry\"}\n",
        "fruits.pop()\n",
        "print(fruits)"
      ],
      "metadata": {
        "colab": {
          "base_uri": "https://localhost:8080/"
        },
        "id": "N3x8T3XXhRtb",
        "outputId": "1ba94388-6443-4e83-a5a1-af5f6775c4e5"
      },
      "execution_count": null,
      "outputs": [
        {
          "output_type": "stream",
          "name": "stdout",
          "text": [
            "-----Pop method-----\n",
            "{'apple', 'cherry'}\n"
          ]
        }
      ]
    },
    {
      "cell_type": "markdown",
      "metadata": {
        "id": "IdlOwFSSpbgr"
      },
      "source": [
        "# **Python Conditional Statements**\n",
        "\n",
        "Python supports the usual logical conditions from mathematics:\n",
        "\n",
        "Equals: a == b\n",
        "\n",
        "Not Equals: a != b\n",
        "\n",
        "Less than: a < b\n",
        "\n",
        "Less than or equal to: a <= b\n",
        "\n",
        "Greater than: a > b\n",
        "\n",
        "Greater than or equal to: a >= b\n",
        "\n",
        "These conditions can be used in several ways, most commonly in \"if statements\" and loops.\n",
        "\n"
      ]
    },
    {
      "cell_type": "code",
      "source": [
        "Age = int(input(\"Enter the your Age: \"))\n",
        "\n",
        "if Age >= 18:\n",
        "  print(\"You are eligible for voting\")\n",
        "else:\n",
        "  print(\"Sorry, you are not eligible for voting\")"
      ],
      "metadata": {
        "colab": {
          "base_uri": "https://localhost:8080/"
        },
        "id": "4SFAGjKJQa1b",
        "outputId": "c3224a12-f5c3-4329-9b3c-4ec846f8b042"
      },
      "execution_count": null,
      "outputs": [
        {
          "output_type": "stream",
          "name": "stdout",
          "text": [
            "Enter the your Age: 17\n",
            "Sorry, you are not eligible for voting\n"
          ]
        }
      ]
    },
    {
      "cell_type": "code",
      "source": [
        "Age = int(input(\"Enter the your Age: \"))\n",
        "\n",
        "if Age >= 18:\n",
        "  pass\n"
      ],
      "metadata": {
        "colab": {
          "base_uri": "https://localhost:8080/"
        },
        "id": "QnZ3kpPfWs_3",
        "outputId": "65fdb705-0fc5-4d09-d8dd-d76cc1a11779"
      },
      "execution_count": null,
      "outputs": [
        {
          "name": "stdout",
          "output_type": "stream",
          "text": [
            "Enter the your Age: 5\n"
          ]
        }
      ]
    },
    {
      "cell_type": "code",
      "source": [
        "a = int(input(\"Enter the number A: \"))\n",
        "\n",
        "if a>=0:\n",
        "  print(\"A is a positive no.\")\n",
        "  if a == 0:\n",
        "    print(\"The inputted number is Zero\")\n",
        "else:\n",
        "  print(\"A is a negative no.\")"
      ],
      "metadata": {
        "colab": {
          "base_uri": "https://localhost:8080/"
        },
        "id": "JNGrVKQoTQLv",
        "outputId": "83aba5fd-7b0a-4257-eab1-7e97de4a860f"
      },
      "execution_count": null,
      "outputs": [
        {
          "output_type": "stream",
          "name": "stdout",
          "text": [
            "Enter the number A: 0\n",
            "A is a positive no.\n",
            "The inputted number is Zero\n"
          ]
        }
      ]
    },
    {
      "cell_type": "code",
      "source": [
        "a = int(input(\"Enter the value of a: \"))\n",
        "b = int(input(\"Enter the value of b: \"))\n",
        "\n",
        "if a>b:\n",
        "  print(\"A is greater than B\")\n",
        "elif a == b:\n",
        "  print(\"A & B both are equal\")\n",
        "else:\n",
        "  print(\"B is greater than A\")"
      ],
      "metadata": {
        "colab": {
          "base_uri": "https://localhost:8080/"
        },
        "id": "i26BQ6B8Qbqy",
        "outputId": "78febbfb-584e-4474-e93d-a0df06a21e93"
      },
      "execution_count": null,
      "outputs": [
        {
          "output_type": "stream",
          "name": "stdout",
          "text": [
            "Enter the value of a: 20\n",
            "Enter the value of b: 20\n",
            "A & B both are equal\n"
          ]
        }
      ]
    },
    {
      "cell_type": "code",
      "source": [
        "a = int(input(\"Enter the Number A: - \"))\n",
        "#b = int(input(\"Enter the Number B: - \"))\n",
        "\n",
        "if a%2==0:\n",
        "  print(\"A is Even number\")\n",
        "else:\n",
        "  print(\"A is an Odd number\")"
      ],
      "metadata": {
        "colab": {
          "base_uri": "https://localhost:8080/"
        },
        "id": "flJCHWKXFQAb",
        "outputId": "f8570b8a-691b-4498-d9b2-477f6617e156"
      },
      "execution_count": null,
      "outputs": [
        {
          "output_type": "stream",
          "name": "stdout",
          "text": [
            "Enter the Number A: - 54\n",
            "A is Even number\n"
          ]
        }
      ]
    },
    {
      "cell_type": "code",
      "source": [
        "a = int(input(\"Enter a : \"))\n",
        "b = int(input(\"Enter b : \"))\n",
        "c = int(input(\"Enter c : \"))\n",
        "if a>b and a>c:\n",
        "  print(\"a is largest\")\n",
        "if b>a and b>c:\n",
        "  print(\"b is largest\")\n",
        "if c>a and c>b:\n",
        "  print(\"c is largest\")"
      ],
      "metadata": {
        "colab": {
          "base_uri": "https://localhost:8080/"
        },
        "id": "5Q6ZIebaHEFN",
        "outputId": "e175a387-0a1f-4da8-9d2d-b9f12807a4c6"
      },
      "execution_count": null,
      "outputs": [
        {
          "output_type": "stream",
          "name": "stdout",
          "text": [
            "Enter a : 54\n",
            "Enter b : 65\n",
            "Enter c : 45\n",
            "b is largest\n"
          ]
        }
      ]
    },
    {
      "cell_type": "code",
      "source": [
        "a = int(input(\"Enter the number: \"))\n",
        "\n",
        "if a>=0:\n",
        "  print(\"The number is positive no.\")\n",
        "  if a==0:\n",
        "    print(\"The number is zero\")\n",
        "else:\n",
        "  print(\"The number is negative no.\")"
      ],
      "metadata": {
        "colab": {
          "base_uri": "https://localhost:8080/"
        },
        "id": "2gO2nLqPHEDi",
        "outputId": "ff4a1984-6422-4e20-9245-719d0b2d0ce2"
      },
      "execution_count": null,
      "outputs": [
        {
          "output_type": "stream",
          "name": "stdout",
          "text": [
            "Enter the number: 0\n",
            "The number is positive no.\n",
            "The number is zero\n"
          ]
        }
      ]
    },
    {
      "cell_type": "code",
      "metadata": {
        "colab": {
          "base_uri": "https://localhost:8080/"
        },
        "id": "WrbbhBa0ktr3",
        "outputId": "5a227b29-99c5-41fa-8d47-59bf59010ac8"
      },
      "source": [
        "a = 33\n",
        "b = 3\n",
        "if b > a:\n",
        "  print(\"b is greater than a\")\n",
        "elif a == b:\n",
        "  print(\"a and b are equal\")\n",
        "else:\n",
        "  print(\"a is greater than b\")"
      ],
      "execution_count": null,
      "outputs": [
        {
          "output_type": "stream",
          "name": "stdout",
          "text": [
            "a is greater than b\n"
          ]
        }
      ]
    },
    {
      "cell_type": "code",
      "metadata": {
        "colab": {
          "base_uri": "https://localhost:8080/"
        },
        "id": "kZ9uA18Eo5bE",
        "outputId": "d55a8ffc-7fdb-49f4-efa6-9e892e02c328"
      },
      "source": [
        "#Ternary Operators, or Conditional Expressions.\n",
        "a = 338\n",
        "b = 338\n",
        "print(\"A\") if a > b else print(\"=\") if a == b else print(\"B\")"
      ],
      "execution_count": null,
      "outputs": [
        {
          "output_type": "stream",
          "name": "stdout",
          "text": [
            "=\n"
          ]
        }
      ]
    },
    {
      "cell_type": "code",
      "source": [
        "a = int(input(\"Enter the value of A:- \"))\n",
        "b = int(input(\"Enter the value of B:- \"))\n",
        "c = int(input(\"Enter the value of C:- \"))\n",
        "\n",
        "if a > b and a>c:\n",
        "  print(\"The value of A is greater\")"
      ],
      "metadata": {
        "colab": {
          "base_uri": "https://localhost:8080/"
        },
        "id": "OLAJwg5WH_OH",
        "outputId": "17c0a32f-8293-4dd5-bddc-ae35094fa97f"
      },
      "execution_count": null,
      "outputs": [
        {
          "name": "stdout",
          "output_type": "stream",
          "text": [
            "Enter the value of A:- 8\n",
            "Enter the value of B:- 6\n",
            "Enter the value of C:- 9\n"
          ]
        }
      ]
    },
    {
      "cell_type": "code",
      "source": [
        "x = float(input(\"Enter the value:- \"))\n",
        "if x > 10:\n",
        "  print(\"Above ten,\")\n",
        "  if x > 20:\n",
        "    print(\"and also above 20! \")\n",
        "  else:\n",
        "    print(\"but not above 20.\")\n",
        "else:\n",
        "  print(\"Less than 10\")"
      ],
      "metadata": {
        "colab": {
          "base_uri": "https://localhost:8080/"
        },
        "id": "hnF06B1AJJHU",
        "outputId": "d681d9df-d5be-49ad-c735-45f7dec9f85c"
      },
      "execution_count": null,
      "outputs": [
        {
          "output_type": "stream",
          "name": "stdout",
          "text": [
            "Enter the value:- 9.5\n",
            "Less than 10\n"
          ]
        }
      ]
    },
    {
      "cell_type": "code",
      "metadata": {
        "colab": {
          "base_uri": "https://localhost:8080/"
        },
        "id": "D8DD3K1KpLSr",
        "outputId": "740e5eea-8c75-42e9-ed1c-d9f8875e180e"
      },
      "source": [
        "print(\"----AND Operator----\")\n",
        "# And Operator - The and keyword is a logical operator, and is used to combine conditional statements\n",
        "a = 200\n",
        "b = 33\n",
        "c = 500\n",
        "if a > b and c > a:\n",
        "  print(\"Both conditions are True\")\n",
        "\n",
        "print(\"----OR Operator-----\")\n",
        "# Or Operator - The or keyword is a logical operator, and is used to combine conditional statements\n",
        "a = 200\n",
        "b = 33\n",
        "c = 500\n",
        "if a > b or a > c:\n",
        "  print(\"At least one of the conditions is True\")\n",
        "\n",
        "print(\"----Nested If-----\")\n",
        "# Nested If - We can have if statements inside if statements, this is called nested if statements.\n",
        "x = 41\n",
        "if x > 10:\n",
        "  print(\"Above ten,\")\n",
        "  if x > 20:\n",
        "    print(\"and also above 20! \")\n",
        "  else:\n",
        "    print(\"but not above 20.\")\n",
        "\n",
        "print(\"----The Pass Statement----\")\n",
        "# The pass Statement - if statements cannot be empty, but if you for some reason have an if statement with no content, put in the pass statement to avoid getting an error.\n",
        "a = 33\n",
        "b = 200\n",
        "if b > a:\n"
      ],
      "execution_count": null,
      "outputs": [
        {
          "output_type": "stream",
          "text": [
            "----AND Operator----\n",
            "Both conditions are True\n",
            "----OR Operator-----\n",
            "At least one of the conditions is True\n",
            "----Nested If-----\n",
            "Above ten,\n",
            "and also above 20! \n",
            "----The Pass Statement----\n"
          ],
          "name": "stdout"
        }
      ]
    },
    {
      "cell_type": "code",
      "source": [
        "a = 330\n",
        "b = 450\n",
        "if b > a:\n",
        "  pass"
      ],
      "metadata": {
        "id": "O1CAHY5KJsHW"
      },
      "execution_count": null,
      "outputs": []
    },
    {
      "cell_type": "code",
      "source": [
        "num = int(input(\"Enter the number: - \"))\n",
        "\n",
        "if num >=0:\n",
        "  if num ==0:\n",
        "    print(\"Number is Zero\")\n",
        "  else:\n",
        "   print(\"Number is Positive \")\n",
        "else:\n",
        "  print(\"Negative Number\")"
      ],
      "metadata": {
        "colab": {
          "base_uri": "https://localhost:8080/"
        },
        "id": "hPMrk4U7Km8W",
        "outputId": "afba187c-877c-4b93-ffe9-a69460e54500"
      },
      "execution_count": null,
      "outputs": [
        {
          "output_type": "stream",
          "name": "stdout",
          "text": [
            "Enter the number: - -956\n",
            "Negative Number\n"
          ]
        }
      ]
    },
    {
      "cell_type": "code",
      "source": [
        "#If Condition\n",
        "a = int(input(\"Enter the Number : - \"))\n",
        "\n",
        "if a%2==0:\n",
        "  print(\"Even Number\")\n",
        "else:\n",
        "  print(\"Odd Number\")"
      ],
      "metadata": {
        "colab": {
          "base_uri": "https://localhost:8080/"
        },
        "id": "UPC6r-urXpKW",
        "outputId": "352082a1-fe44-45ac-de4b-9f62a2cb3e60"
      },
      "execution_count": null,
      "outputs": [
        {
          "output_type": "stream",
          "name": "stdout",
          "text": [
            "Enter the Number : - 99\n",
            "Odd Number\n"
          ]
        }
      ]
    },
    {
      "cell_type": "code",
      "source": [
        "S1 = int(input(\"Enter your Marks S1: - \"))\n",
        "S2 = int(input(\"Enter your Marks S2: - \"))\n",
        "S3 = int(input(\"Enter your Marks S3: - \"))\n",
        "\n",
        "if S1>S2 and  S1>S3:\n",
        "  print(\"S1 has a higher marks\")\n",
        "\n",
        "if S2>S1 and S2>S3:\n",
        "  print(\"S2 has a higher marks\")\n",
        "\n",
        "if S3>S2 and S3>S1:\n",
        "  print(\"S3 has a higher marks\")"
      ],
      "metadata": {
        "colab": {
          "base_uri": "https://localhost:8080/"
        },
        "id": "Pw4B14Y-a3Fs",
        "outputId": "3f44d7af-373e-417a-c9c2-4ac9bc225ad8"
      },
      "execution_count": null,
      "outputs": [
        {
          "output_type": "stream",
          "name": "stdout",
          "text": [
            "Enter your Marks S1: - 4\n",
            "Enter your Marks S2: - 6\n",
            "Enter your Marks S3: - 9\n",
            "S3 has a higher marks\n"
          ]
        }
      ]
    },
    {
      "cell_type": "code",
      "source": [
        "a = int(input(\"Enter the Number: - \"))\n",
        "\n",
        "if a%2==0:\n",
        "  print(\"It's divisible by 2\")\n",
        "elif a%3==0:\n",
        "  print(\"It's divisible by 3\")\n",
        "elif a%4==0:\n",
        "  print(\"It's divisible by 4\")\n",
        "elif a%5==0:\n",
        "  print(\"It's divisible by 5\")\n",
        "else:\n",
        "  print(\"It's not divisible by 2,3,4 or 5\")\n"
      ],
      "metadata": {
        "colab": {
          "base_uri": "https://localhost:8080/"
        },
        "id": "R-bXgcVCc1k1",
        "outputId": "7eb4a363-1c20-4c96-d71c-6cc6e57f5cf5"
      },
      "execution_count": null,
      "outputs": [
        {
          "output_type": "stream",
          "name": "stdout",
          "text": [
            "Enter the Number: - 20\n",
            "It's divisible by 2\n"
          ]
        }
      ]
    },
    {
      "cell_type": "code",
      "source": [
        "sname = input(\"Enter the student name: - \")\n",
        "\n",
        "sub1 = int(input(\"Enter your PS marks: - \"))\n",
        "sub2 = int(input(\"Enter your OS marks: - \"))\n",
        "sub3 = int(input(\"Enter your EDIT marks: - \"))\n",
        "sub4 = int(input(\"Enter your RDBMS marks: - \"))\n",
        "sub5 = int(input(\"Enter your IIH marks: - \"))\n",
        "\n",
        "print(\"------Student details--------\\n\")\n",
        "print(\"Student Name:- \",sname)\n",
        "print(\"PS Marks: - \", sub1)\n",
        "print(\"OS Marks: - \", sub2)\n",
        "print(\"EDIT Marks: - \", sub3)\n",
        "print(\"RDBMS Marks: - \", sub4)\n",
        "print(\"IIH Marks: - \", sub5)\n",
        "\n",
        "totalmarks = sub1+sub2+sub3+sub4+sub5\n",
        "print(\"\\nTotal Marks: - \",totalmarks)\n",
        "\n",
        "avg = totalmarks/5\n",
        "print(\"\\n Average marks: - \", avg)\n",
        "\n",
        "print(\"\\n Result \\n\")\n",
        "if avg>=90:\n",
        "  print(\"Grade: A+\")\n",
        "elif avg >= 80:\n",
        "  print('Grade: A')\n",
        "elif avg >= 70:\n",
        "  print('Grade: B')\n",
        "elif avg >= 60:\n",
        "  print('Grade: C')\n",
        "elif avg >= 50:\n",
        "  print('Grade: D')\n",
        "elif avg >= 35:\n",
        "  print('Grade: E')\n",
        "else:\n",
        "  print(\"Grade: Fail\")"
      ],
      "metadata": {
        "colab": {
          "base_uri": "https://localhost:8080/"
        },
        "id": "fL2y3WtTfpFp",
        "outputId": "3b74c5cf-8961-4c5d-f695-a1e5c83151d7"
      },
      "execution_count": null,
      "outputs": [
        {
          "output_type": "stream",
          "name": "stdout",
          "text": [
            "Enter the student name: - Dhruv\n",
            "Enter your PS marks: - 85\n",
            "Enter your OS marks: - 82\n",
            "Enter your EDIT marks: - 19\n",
            "Enter your RDBMS marks: - 60\n",
            "Enter your IIH marks: - 85\n",
            "------Student details--------\n",
            "\n",
            "Student Name:-  Dhruv\n",
            "PS Marks: -  85\n",
            "OS Marks: -  82\n",
            "EDIT Marks: -  19\n",
            "RDBMS Marks: -  60\n",
            "IIH Marks: -  85\n",
            "\n",
            "Total Marks: -  331\n",
            "\n",
            " Average marks: -  66.2\n",
            "\n",
            " Result \n",
            "\n",
            "Grade: C\n"
          ]
        }
      ]
    },
    {
      "cell_type": "markdown",
      "metadata": {
        "id": "rt49b8JfktJT"
      },
      "source": [
        "# **Python Iterative Statements(Loops)**\n",
        "\n",
        "Python has 2 primitive loop commands :-\n",
        "1. while Loop\n",
        "2. for loop"
      ]
    },
    {
      "cell_type": "code",
      "source": [
        "# while loop - With the while loop we can execute a set of statements as long as a condition is true\n",
        "\n",
        "\"\"\"Syntax:-\n",
        "while expression:\n",
        "    statement(s)\"\"\"\n",
        "\n",
        "#Basic While Loop Program\n",
        "count = 1\n",
        "while (count < 3):\n",
        "    count = count + 1\n",
        "    print(\"Hello It's me Python\")"
      ],
      "metadata": {
        "colab": {
          "base_uri": "https://localhost:8080/"
        },
        "id": "RXBgUl_mIIrH",
        "outputId": "f5c6b24e-3d4a-44ce-e8b6-3fca9589d042"
      },
      "execution_count": null,
      "outputs": [
        {
          "output_type": "stream",
          "name": "stdout",
          "text": [
            "Hello It's me Python\n",
            "Hello It's me Python\n"
          ]
        }
      ]
    },
    {
      "cell_type": "code",
      "source": [
        "# Single statement while block\n",
        "count = 0\n",
        "while (count < 5): count += 1; print(\"Awesome\")"
      ],
      "metadata": {
        "colab": {
          "base_uri": "https://localhost:8080/"
        },
        "id": "MeV5KF4kJFTs",
        "outputId": "16a461f1-72ca-422d-ebca-fc527ee6c826"
      },
      "execution_count": null,
      "outputs": [
        {
          "output_type": "stream",
          "name": "stdout",
          "text": [
            "Awesome\n",
            "Awesome\n",
            "Awesome\n",
            "Awesome\n",
            "Awesome\n"
          ]
        }
      ]
    },
    {
      "cell_type": "code",
      "source": [
        "#Python while loop with user input\n",
        "a = int(input('Enter a number (-1 to quit): '))\n",
        " \n",
        "while a != -1:\n",
        "    a = int(input('Enter a number (-1 to quit): '))"
      ],
      "metadata": {
        "colab": {
          "base_uri": "https://localhost:8080/"
        },
        "id": "203ERipdJU_c",
        "outputId": "4be6eb76-425b-4017-88d2-25c679b5b7dd"
      },
      "execution_count": null,
      "outputs": [
        {
          "name": "stdout",
          "output_type": "stream",
          "text": [
            "Enter a number (-1 to quit): 1\n",
            "Enter a number (-1 to quit): 5\n",
            "Enter a number (-1 to quit): -8\n",
            "Enter a number (-1 to quit): -1\n"
          ]
        }
      ]
    },
    {
      "cell_type": "code",
      "source": [
        "#Program to print table of any number\n",
        "i=1\n",
        "number = int(input(\"Enter the number:\"))\n",
        "while i <= 10:\n",
        "  print(\"\\n %d X %d = %d \\n\"%(number, i, number * i))\n",
        "  i = i+1"
      ],
      "metadata": {
        "colab": {
          "base_uri": "https://localhost:8080/"
        },
        "id": "a1GWuZMwIM3E",
        "outputId": "ab06608c-8939-40c4-e547-69c8128cd8d0"
      },
      "execution_count": null,
      "outputs": [
        {
          "output_type": "stream",
          "name": "stdout",
          "text": [
            "Enter the number:12\n",
            "\n",
            " 12 X 1 = 12 \n",
            "\n",
            "\n",
            " 12 X 2 = 24 \n",
            "\n",
            "\n",
            " 12 X 3 = 36 \n",
            "\n",
            "\n",
            " 12 X 4 = 48 \n",
            "\n",
            "\n",
            " 12 X 5 = 60 \n",
            "\n",
            "\n",
            " 12 X 6 = 72 \n",
            "\n",
            "\n",
            " 12 X 7 = 84 \n",
            "\n",
            "\n",
            " 12 X 8 = 96 \n",
            "\n",
            "\n",
            " 12 X 9 = 108 \n",
            "\n",
            "\n",
            " 12 X 10 = 120 \n",
            "\n"
          ]
        }
      ]
    },
    {
      "cell_type": "code",
      "source": [
        "#Nested While Loop\n",
        "\"\"\"Syntax: -\n",
        "while expression:\n",
        "   while expression:\n",
        "      statement(s)\n",
        "   statement(s)\"\"\"\n",
        "\n",
        "i=1\n",
        "while i<=3:\n",
        "  print(i ,\"Outer loop is executed only once\")\n",
        "  j=1\n",
        "  while j<=3:\n",
        "    print(j ,\"Inner loop is executed until to completion\")\n",
        "    j+=1\n",
        "  i+=1"
      ],
      "metadata": {
        "colab": {
          "base_uri": "https://localhost:8080/"
        },
        "id": "JNJ0mNdSIoYf",
        "outputId": "7f124b1d-8b8c-4895-fc54-cec3260a814a"
      },
      "execution_count": null,
      "outputs": [
        {
          "output_type": "stream",
          "name": "stdout",
          "text": [
            "1 Outer loop is executed only once\n",
            "1 Inner loop is executed until to completion\n",
            "2 Inner loop is executed until to completion\n",
            "3 Inner loop is executed until to completion\n",
            "2 Outer loop is executed only once\n",
            "1 Inner loop is executed until to completion\n",
            "2 Inner loop is executed until to completion\n",
            "3 Inner loop is executed until to completion\n",
            "3 Outer loop is executed only once\n",
            "1 Inner loop is executed until to completion\n",
            "2 Inner loop is executed until to completion\n",
            "3 Inner loop is executed until to completion\n"
          ]
        }
      ]
    },
    {
      "cell_type": "markdown",
      "source": [],
      "metadata": {
        "id": "bGLLoSU1Ct7x"
      }
    },
    {
      "cell_type": "code",
      "source": [
        "#nested for loop to find the prime numbers from 2 to 10\n",
        "i = 2\n",
        "while(i < 10):\n",
        "   j = 2\n",
        "   while(j <= (i/j)):\n",
        "      if not(i%j): break\n",
        "      j = j + 1\n",
        "   if (j > i/j) : print(i, \" is prime\")\n",
        "   i = i + 1\n",
        "\n",
        "print(\"Good bye!\")"
      ],
      "metadata": {
        "colab": {
          "base_uri": "https://localhost:8080/"
        },
        "id": "r_J5QQe6JoXp",
        "outputId": "7166b7ff-70a5-42b0-da1e-d0a029040836"
      },
      "execution_count": null,
      "outputs": [
        {
          "output_type": "stream",
          "name": "stdout",
          "text": [
            "2  is prime\n",
            "3  is prime\n",
            "5  is prime\n",
            "7  is prime\n",
            "Good bye!\n"
          ]
        }
      ]
    },
    {
      "cell_type": "code",
      "source": [
        "#Program to create a pattern of numbers using a nested while loop\n",
        "i=1\n",
        "while i<=5:\n",
        "    j=1\n",
        "    while j<=i:\n",
        "        print(j,end=\" \")\n",
        "        j=j+1\n",
        "    print(\"\")\n",
        "    i=i+1"
      ],
      "metadata": {
        "colab": {
          "base_uri": "https://localhost:8080/"
        },
        "id": "_dMIKhNBKUMi",
        "outputId": "86b7d0ab-eb21-4588-8892-62dffbca46c7"
      },
      "execution_count": null,
      "outputs": [
        {
          "output_type": "stream",
          "name": "stdout",
          "text": [
            "1 \n",
            "1 2 \n",
            "1 2 3 \n",
            "1 2 3 4 \n",
            "1 2 3 4 5 \n"
          ]
        }
      ]
    },
    {
      "cell_type": "markdown",
      "source": [
        "In the above code, the outer while loop keeps track of every new line inside the pattern, and the inner while loop displays the number according to the condition.\n",
        "For example, if i=2\n",
        "Outer loop:-\n",
        "\n",
        "Since 2<=5, the outer loop gets executed\n",
        "Inner loop:-\n",
        "  \n",
        "1.   Initially j=1 and since 1<=2 inners for loop is executed\n",
        "2.   Print j as 1 and increment j\n",
        "3.   Again check the condition, 2<=2, and the inner loop is executed\n",
        "4.   Print j as 2 and increment j\n",
        "5.   Now since 3<=2 is False so we get out of the inner loop"
      ],
      "metadata": {
        "id": "zuAaFTE6Kl50"
      }
    },
    {
      "cell_type": "code",
      "metadata": {
        "colab": {
          "base_uri": "https://localhost:8080/"
        },
        "id": "PGpb2FdPyERI",
        "outputId": "3011552b-16d8-4fda-8969-2e68ec741a68"
      },
      "source": [
        "# With the break statement we can stop the loop even if the while condition is true\n",
        "i = 1\n",
        "while i < 6:\n",
        "  print(i)\n",
        "  if i == 3:\n",
        "    break\n",
        "  i += 1"
      ],
      "execution_count": null,
      "outputs": [
        {
          "output_type": "stream",
          "name": "stdout",
          "text": [
            "1\n",
            "2\n",
            "3\n"
          ]
        }
      ]
    },
    {
      "cell_type": "code",
      "source": [
        "# The control transfer is transferred\n",
        "# when break statement soon it sees t\n",
        "i = 0\n",
        "str1 = 'javatpoint'\n",
        "while i < len(str1):\n",
        "  if str1[i] == 't':\n",
        "    i += 1\n",
        "    break\n",
        "  print('Current Letter :', str1[i])\n",
        "  i += 1"
      ],
      "metadata": {
        "colab": {
          "base_uri": "https://localhost:8080/"
        },
        "id": "g1zjm3a8LImL",
        "outputId": "f848d3be-ea19-4fc6-9643-3e4629eab921"
      },
      "execution_count": null,
      "outputs": [
        {
          "output_type": "stream",
          "name": "stdout",
          "text": [
            "Current Letter : j\n",
            "Current Letter : a\n",
            "Current Letter : v\n",
            "Current Letter : a\n"
          ]
        }
      ]
    },
    {
      "cell_type": "code",
      "metadata": {
        "colab": {
          "base_uri": "https://localhost:8080/"
        },
        "id": "NFtKi4RsyuZm",
        "outputId": "f5836d4e-662e-4505-b713-b04a1d2c0c2c"
      },
      "source": [
        "# With the continue statement we can stop the current iteration, and continue with the next\n",
        "i = 0\n",
        "while i < 6:\n",
        "  i += 1\n",
        "  if i == 3:\n",
        "    continue\n",
        "  print(i)\n"
      ],
      "execution_count": null,
      "outputs": [
        {
          "output_type": "stream",
          "name": "stdout",
          "text": [
            "1\n",
            "2\n",
            "4\n",
            "5\n",
            "6\n"
          ]
        }
      ]
    },
    {
      "cell_type": "code",
      "source": [
        "# prints all letters except 'a' and 't'\n",
        "i = 0\n",
        "str1 = 'javatpoint'\n",
        "while i < len(str1):\n",
        "  if str1[i] == 'a' or str1[i] == 't':\n",
        "    i += 1\n",
        "    continue\n",
        "  print('Current Letter :', str1[i])\n",
        "  i += 1"
      ],
      "metadata": {
        "colab": {
          "base_uri": "https://localhost:8080/"
        },
        "id": "u9ER9PoELWMr",
        "outputId": "35fada9d-2501-4e0c-852d-72bf651350fa"
      },
      "execution_count": null,
      "outputs": [
        {
          "output_type": "stream",
          "name": "stdout",
          "text": [
            "Current Letter : j\n",
            "Current Letter : v\n",
            "Current Letter : p\n",
            "Current Letter : o\n",
            "Current Letter : i\n",
            "Current Letter : n\n"
          ]
        }
      ]
    },
    {
      "cell_type": "code",
      "metadata": {
        "colab": {
          "base_uri": "https://localhost:8080/"
        },
        "id": "vWDNDL8lyv4A",
        "outputId": "8ae92d00-8c43-4012-c07d-beb3e6e2ce61"
      },
      "source": [
        "\n",
        "# With the else statement we can run a block of code once when the condition no longer is true\n",
        "i = 1\n",
        "while i < 6:\n",
        "  print(i)\n",
        "  i += 1\n",
        "else:\n",
        "  print(\"i is no longer less than 6\")    "
      ],
      "execution_count": null,
      "outputs": [
        {
          "output_type": "stream",
          "name": "stdout",
          "text": [
            "1\n",
            "2\n",
            "3\n",
            "4\n",
            "5\n",
            "i is no longer less than 6\n"
          ]
        }
      ]
    },
    {
      "cell_type": "code",
      "metadata": {
        "colab": {
          "base_uri": "https://localhost:8080/"
        },
        "id": "hlgmRYUS1QQR",
        "outputId": "9cac454a-cc16-4460-cc25-e954589e68bf"
      },
      "source": [
        "# for loop - A for loop is used for iterating over a sequence (that is either a list, a tuple, a dictionary, a set, or a string).\n",
        "fruits = [\"apple\", \"banana\", \"cherry\"]\n",
        "for x in fruits:\n",
        "  print(x)\n",
        "  if x == \"banana\":\n",
        "    break"
      ],
      "execution_count": null,
      "outputs": [
        {
          "output_type": "stream",
          "name": "stdout",
          "text": [
            "apple\n",
            "banana\n"
          ]
        }
      ]
    },
    {
      "cell_type": "code",
      "metadata": {
        "colab": {
          "base_uri": "https://localhost:8080/"
        },
        "id": "jSUPz2567Ygq",
        "outputId": "f7d0ab42-f656-495d-9000-2a6025c3d7dd"
      },
      "source": [
        "fruits = [\"apple\", \"banana\", \"cherry\"]\n",
        "for x in fruits:\n",
        "  if x == \"banana\":\n",
        "    continue\n",
        "  print(x)"
      ],
      "execution_count": null,
      "outputs": [
        {
          "output_type": "stream",
          "name": "stdout",
          "text": [
            "apple\n",
            "cherry\n"
          ]
        }
      ]
    },
    {
      "cell_type": "code",
      "metadata": {
        "colab": {
          "base_uri": "https://localhost:8080/"
        },
        "id": "-ZASrI5c7kXP",
        "outputId": "106a17cb-048d-42ef-81ea-8da984455292"
      },
      "source": [
        "#range\n",
        "for x in range(2, 10):\n",
        "  print(x)"
      ],
      "execution_count": null,
      "outputs": [
        {
          "output_type": "stream",
          "name": "stdout",
          "text": [
            "2\n",
            "3\n",
            "4\n",
            "5\n",
            "6\n",
            "7\n",
            "8\n",
            "9\n"
          ]
        }
      ]
    },
    {
      "cell_type": "code",
      "metadata": {
        "colab": {
          "base_uri": "https://localhost:8080/"
        },
        "id": "KFxt1DTK7pyE",
        "outputId": "8260a305-d808-497b-ff4f-032b71fb9120"
      },
      "source": [
        "# Else in For Loop\n",
        "for x in range(6):\n",
        "  print(x)\n",
        "else:\n",
        "  print(\"Finally finished!\")"
      ],
      "execution_count": null,
      "outputs": [
        {
          "output_type": "stream",
          "name": "stdout",
          "text": [
            "0\n",
            "1\n",
            "2\n",
            "3\n",
            "4\n",
            "5\n",
            "Finally finished!\n"
          ]
        }
      ]
    },
    {
      "cell_type": "code",
      "metadata": {
        "colab": {
          "base_uri": "https://localhost:8080/"
        },
        "id": "_HMPDNS67zxu",
        "outputId": "3ab938b4-351d-456c-af1b-bae53aeffbd2"
      },
      "source": [
        "#Nested For loop\n",
        "adj = [\"red\", \"big\", \"tasty\"]\n",
        "fruits = [\"apple\", \"banana\", \"cherry\"]\n",
        "\n",
        "for x in adj:\n",
        "  for y in fruits:\n",
        "    print(x, y)"
      ],
      "execution_count": null,
      "outputs": [
        {
          "output_type": "stream",
          "name": "stdout",
          "text": [
            "red apple\n",
            "red banana\n",
            "red cherry\n",
            "big apple\n",
            "big banana\n",
            "big cherry\n",
            "tasty apple\n",
            "tasty banana\n",
            "tasty cherry\n"
          ]
        }
      ]
    },
    {
      "cell_type": "code",
      "source": [
        "#Table\n",
        "n = int(input(\"Enter the number \"))\n",
        "for i in range(1,11):\n",
        "  c = n*i\n",
        "  print(n,\"*\",i,\"=\",c)"
      ],
      "metadata": {
        "colab": {
          "base_uri": "https://localhost:8080/"
        },
        "id": "VYlKyQywNxRS",
        "outputId": "1f3c1841-c633-4d0b-b670-e902cffb180e"
      },
      "execution_count": null,
      "outputs": [
        {
          "output_type": "stream",
          "name": "stdout",
          "text": [
            "Enter the number 5\n",
            "5 * 1 = 5\n",
            "5 * 2 = 10\n",
            "5 * 3 = 15\n",
            "5 * 4 = 20\n",
            "5 * 5 = 25\n",
            "5 * 6 = 30\n",
            "5 * 7 = 35\n",
            "5 * 8 = 40\n",
            "5 * 9 = 45\n",
            "5 * 10 = 50\n"
          ]
        }
      ]
    },
    {
      "cell_type": "code",
      "source": [
        "#Program to print odd no. using range.\n",
        "n = int(input(\"Enter the number \"))\n",
        "for i in range(1,n,2):\n",
        "  print(i)"
      ],
      "metadata": {
        "colab": {
          "base_uri": "https://localhost:8080/"
        },
        "id": "BYDun5JdOgL9",
        "outputId": "c9e15911-06c2-4bd7-b35d-d99e420d388c"
      },
      "execution_count": null,
      "outputs": [
        {
          "output_type": "stream",
          "name": "stdout",
          "text": [
            "Enter the number 10\n",
            "1\n",
            "3\n",
            "5\n",
            "7\n",
            "9\n"
          ]
        }
      ]
    },
    {
      "cell_type": "code",
      "source": [
        "#Program to print even no. using range\n",
        "n = int(input(\"Enter the number \"))\n",
        "for i in range(2,n,2):\n",
        "  print(i)"
      ],
      "metadata": {
        "id": "4L2Kc7nQOgJ3",
        "colab": {
          "base_uri": "https://localhost:8080/"
        },
        "outputId": "f09c9d30-587c-40f5-ee1f-2b9f9b9bc35d"
      },
      "execution_count": null,
      "outputs": [
        {
          "output_type": "stream",
          "name": "stdout",
          "text": [
            "Enter the number 10\n",
            "2\n",
            "4\n",
            "6\n",
            "8\n"
          ]
        }
      ]
    },
    {
      "cell_type": "markdown",
      "source": [
        "## ***Numpy***\n",
        "\n",
        "NumPy is a Python package. It stands for 'Numerical Python' for the\n",
        "computation and processing of the multidimensional and single\n",
        "dimensional array elements. It is a library consisting of\n",
        "multidimensional array objects and a collection of routines for\n",
        "processing of array.\n",
        "\n",
        "NumPy doesn't come bundled with Python. We have to install it using the python pip\n",
        "installer. Execute the following command.\n",
        "\n",
        "***$ pip install numpy***\n",
        "\n",
        "NumPy package is imported using the following syntax −\n",
        "\n",
        "***import numpy as np***"
      ],
      "metadata": {
        "id": "RF_f7V1-VaGo"
      }
    },
    {
      "cell_type": "code",
      "source": [
        "pip install numpy"
      ],
      "metadata": {
        "colab": {
          "base_uri": "https://localhost:8080/"
        },
        "id": "eypgcIzYb69h",
        "outputId": "47fd6355-98c1-4ee6-806e-6531fe0c6df5"
      },
      "execution_count": null,
      "outputs": [
        {
          "output_type": "stream",
          "name": "stdout",
          "text": [
            "Looking in indexes: https://pypi.org/simple, https://us-python.pkg.dev/colab-wheels/public/simple/\n",
            "Requirement already satisfied: numpy in /usr/local/lib/python3.9/dist-packages (1.22.4)\n"
          ]
        }
      ]
    },
    {
      "cell_type": "code",
      "source": [
        "import numpy as np\n",
        "arr = np.array((1, 2, 3, 4, 5))\n",
        "print(arr)\n",
        "print(type(arr))"
      ],
      "metadata": {
        "colab": {
          "base_uri": "https://localhost:8080/"
        },
        "id": "6VthCu6XVyHY",
        "outputId": "5746e3e8-a587-494c-a23f-5f6d39cda3b0"
      },
      "execution_count": null,
      "outputs": [
        {
          "output_type": "stream",
          "name": "stdout",
          "text": [
            "[1 2 3 4 5]\n",
            "<class 'numpy.ndarray'>\n"
          ]
        }
      ]
    },
    {
      "cell_type": "code",
      "source": [
        "#Create a 0-D array with value 35\n",
        "import numpy as np\n",
        "arr = np.array(35)\n",
        "print(arr)\n",
        "print(type(arr))"
      ],
      "metadata": {
        "colab": {
          "base_uri": "https://localhost:8080/"
        },
        "id": "TJe6rc4vV1im",
        "outputId": "f9df6946-ac4a-4849-dc14-3e4741785a35"
      },
      "execution_count": null,
      "outputs": [
        {
          "output_type": "stream",
          "name": "stdout",
          "text": [
            "35\n",
            "<class 'numpy.ndarray'>\n"
          ]
        }
      ]
    },
    {
      "cell_type": "code",
      "source": [
        "#Create a 1-D array containing the values 1,2,3,4,5:\n",
        "import numpy as np\n",
        "arr = np.array([1, 2, 3, 4, 5])\n",
        "print(arr)\n",
        "print(type(arr))"
      ],
      "metadata": {
        "colab": {
          "base_uri": "https://localhost:8080/"
        },
        "id": "HrBab4bcV9_N",
        "outputId": "eb01fa2e-0de5-4d30-87d3-f4d7d95c0b51"
      },
      "execution_count": null,
      "outputs": [
        {
          "output_type": "stream",
          "name": "stdout",
          "text": [
            "[1 2 3 4 5]\n",
            "<class 'numpy.ndarray'>\n"
          ]
        }
      ]
    },
    {
      "cell_type": "code",
      "source": [
        "#Create a 2-D array containing two arrays with the values 1,2,3 and 4,5,6:\n",
        "import numpy as np\n",
        "arr = np.array([[1, 2, 3], [4, 5, 6]])\n",
        "print(arr)\n",
        "print(type(arr))"
      ],
      "metadata": {
        "colab": {
          "base_uri": "https://localhost:8080/"
        },
        "id": "U5rzF_NnWAJB",
        "outputId": "b1c768f2-33a7-4743-cd53-33c72c8de43d"
      },
      "execution_count": null,
      "outputs": [
        {
          "output_type": "stream",
          "name": "stdout",
          "text": [
            "[[1 2 3]\n",
            " [4 5 6]]\n",
            "<class 'numpy.ndarray'>\n"
          ]
        }
      ]
    },
    {
      "cell_type": "code",
      "source": [
        "#Create a 3-D array with two 2-D arrays, both containing two arrays with the values 1,2,3 and 4,5,6:-\n",
        "import numpy as np\n",
        "arr = np.array([[[1, 2, 3], [4, 5, 6]], [[1, 2, 3], [4, 5, 6]]])\n",
        "print(arr)"
      ],
      "metadata": {
        "colab": {
          "base_uri": "https://localhost:8080/"
        },
        "id": "daWDpr-5WDvW",
        "outputId": "0ee37d1d-e0b9-4d15-f10e-3f1b8e78af63"
      },
      "execution_count": null,
      "outputs": [
        {
          "output_type": "stream",
          "name": "stdout",
          "text": [
            "[[[1 2 3]\n",
            "  [4 5 6]]\n",
            "\n",
            " [[1 2 3]\n",
            "  [4 5 6]]]\n"
          ]
        }
      ]
    },
    {
      "cell_type": "markdown",
      "source": [
        "# **ndim** method is used to check the dimension of the array"
      ],
      "metadata": {
        "id": "lDuxcl8ledhc"
      }
    },
    {
      "cell_type": "code",
      "source": [
        "#Check Number of Dimensions\n",
        "import numpy as np\n",
        "a = np.array(42)\n",
        "b = np.array([1, 2, 3, 4, 5])\n",
        "c = np.array([[1, 2, 3], [4, 5, 6]])\n",
        "d = np.array([[[1, 2, 3], [4, 5, 6]], [[1, 2, 3], [4, 5, 6]]])\n",
        "print(a.ndim)\n",
        "print(b.ndim)\n",
        "print(c.ndim)\n",
        "print(d.ndim)"
      ],
      "metadata": {
        "colab": {
          "base_uri": "https://localhost:8080/"
        },
        "id": "pGVhHOjXWK9n",
        "outputId": "58abfc40-5bf5-4eb4-bd98-36c9a105a5ed"
      },
      "execution_count": null,
      "outputs": [
        {
          "output_type": "stream",
          "name": "stdout",
          "text": [
            "0\n",
            "1\n",
            "2\n",
            "3\n"
          ]
        }
      ]
    },
    {
      "cell_type": "code",
      "source": [
        "#Program for Basic array characteristics\n",
        "# Python program to demonstrate\n",
        "# basic array characteristics\n",
        "\n",
        "import numpy as np\n",
        "\n",
        "# Creating array object\n",
        "arr = np.array( [[ 1, 2, 3],\n",
        "[ 4, 2, 5]] )\n",
        "print(arr)\n",
        "# Printing type of arr object\n",
        "print(\"\\n Array is of type: \", type(arr))\n",
        "# Printing array dimensions (axes)\n",
        "print(\"No. of dimensions: \", arr.ndim)\n",
        "print(\"Shape of array: \", arr.shape)\n",
        "# Printing size (total number of elements) of array\n",
        "print(\"Size of array: \", arr.size)\n",
        "print(\"Array stores elements of type: \", arr.dtype)"
      ],
      "metadata": {
        "colab": {
          "base_uri": "https://localhost:8080/"
        },
        "id": "gi5Noeu3WS5H",
        "outputId": "af55f193-3636-4d96-d70c-ba41d2541544"
      },
      "execution_count": null,
      "outputs": [
        {
          "output_type": "stream",
          "name": "stdout",
          "text": [
            "[[1 2 3]\n",
            " [4 2 5]]\n",
            "\n",
            " Array is of type:  <class 'numpy.ndarray'>\n",
            "No. of dimensions:  2\n",
            "Shape of array:  (2, 3)\n",
            "Size of array:  6\n",
            "Array stores elements of type:  int64\n"
          ]
        }
      ]
    },
    {
      "cell_type": "markdown",
      "source": [
        "Some of the important attributes of a NumPy object are: -\n",
        "\n",
        "**Ndim:** displays the dimension of the array\n",
        "\n",
        "**Shape:** returns a tuple of integers indicating the size of the array\n",
        "\n",
        "**Size:** returns the total number of elements in the NumPy array\n",
        "\n",
        "**Dtype:** returns the type of elements in the array, i.e., int64, character\n",
        "\n",
        "**Itemsize:** returns the size in bytes of each item\n",
        "\n",
        "**Reshape:** Reshapes the NumPy array"
      ],
      "metadata": {
        "id": "SZo59oQDWZf0"
      }
    },
    {
      "cell_type": "markdown",
      "source": [
        "# **Numpy Methods**"
      ],
      "metadata": {
        "id": "QwQFNBiyWwIm"
      }
    },
    {
      "cell_type": "code",
      "source": [
        "#Python program to demonstrate mean() function\n",
        "import numpy as np\n",
        "data1 = [1, 3, 4, 5, 7, 2] # list of positive integer numbers\n",
        "x = np.mean(data1)\n",
        "print(\"Mean is :\", x) # Printing the mean"
      ],
      "metadata": {
        "id": "Nzman6aoWW5e",
        "colab": {
          "base_uri": "https://localhost:8080/"
        },
        "outputId": "9234dc4b-038b-41cf-89fe-92c1615ffb53"
      },
      "execution_count": null,
      "outputs": [
        {
          "output_type": "stream",
          "name": "stdout",
          "text": [
            "Mean is : 3.6666666666666665\n"
          ]
        }
      ]
    },
    {
      "cell_type": "code",
      "source": [
        "#Python program to demonstrate median() function\n",
        "import numpy as np\n",
        "a1= [20, 2, 7, 1, 34] # 1D array\n",
        "print(\"a1 : \", a1)\n",
        "print(\"median of a1 : \", np.median(a1))"
      ],
      "metadata": {
        "id": "7tpbRIGRWy99",
        "colab": {
          "base_uri": "https://localhost:8080/"
        },
        "outputId": "f91af252-b261-438e-847d-f89c5ebaa9f7"
      },
      "execution_count": null,
      "outputs": [
        {
          "output_type": "stream",
          "name": "stdout",
          "text": [
            "a1 :  [20, 2, 7, 1, 34]\n",
            "median of a1 :  7.0\n"
          ]
        }
      ]
    },
    {
      "cell_type": "markdown",
      "source": [
        "Numpy doesn't support mode.\n",
        "\n",
        "To calculate mode we've to use Scipy library"
      ],
      "metadata": {
        "id": "odh0gDfEsIB4"
      }
    },
    {
      "cell_type": "code",
      "source": [
        "#Use the SciPy mode() method to find the number that appears the most:\n",
        "from scipy import stats\n",
        "speed = [99,86,87,88,111,86,103,87,94,78,77,85,86]\n",
        "x = stats.mode(speed)\n",
        "print(x)"
      ],
      "metadata": {
        "colab": {
          "base_uri": "https://localhost:8080/"
        },
        "id": "oS0q87Sxr76Z",
        "outputId": "603b684b-f8f7-4154-bb85-cb3dbab4fc74"
      },
      "execution_count": null,
      "outputs": [
        {
          "output_type": "stream",
          "name": "stdout",
          "text": [
            "ModeResult(mode=array([86]), count=array([3]))\n"
          ]
        },
        {
          "output_type": "stream",
          "name": "stderr",
          "text": [
            "<ipython-input-4-b9dd3fa34330>:4: FutureWarning: Unlike other reduction functions (e.g. `skew`, `kurtosis`), the default behavior of `mode` typically preserves the axis it acts along. In SciPy 1.11.0, this behavior will change: the default value of `keepdims` will become False, the `axis` over which the statistic is taken will be eliminated, and the value None will no longer be accepted. Set `keepdims` to True or False to avoid this warning.\n",
            "  x = stats.mode(speed)\n"
          ]
        }
      ]
    },
    {
      "cell_type": "code",
      "source": [
        "#Standard Deviation - numpy.std() method\n",
        "import numpy as np\n",
        "# 1D array\n",
        "arr = [20, 2, 7, 1, 34]\n",
        "print(\"arr : \", arr)\n",
        "print(\"std of arr : \", np.std(arr))"
      ],
      "metadata": {
        "colab": {
          "base_uri": "https://localhost:8080/"
        },
        "id": "4NDHIp8MXrA8",
        "outputId": "1b86d4b1-c150-460d-ebaa-6ed35d3c7c0b"
      },
      "execution_count": null,
      "outputs": [
        {
          "output_type": "stream",
          "name": "stdout",
          "text": [
            "arr :  [20, 2, 7, 1, 34]\n",
            "std of arr :  12.576167937809991\n"
          ]
        }
      ]
    },
    {
      "cell_type": "code",
      "source": [
        "#NumPy var() method to find the variance:\n",
        "import numpy\n",
        "speed = [32,111,138,28,59,77,97]\n",
        "x = numpy.var(speed)\n",
        "print(x)"
      ],
      "metadata": {
        "colab": {
          "base_uri": "https://localhost:8080/"
        },
        "id": "AKgvvuS-X4Pk",
        "outputId": "26bd507c-8276-4078-ba60-bea82d0a9e48"
      },
      "execution_count": null,
      "outputs": [
        {
          "output_type": "stream",
          "name": "stdout",
          "text": [
            "1432.2448979591834\n"
          ]
        }
      ]
    },
    {
      "cell_type": "markdown",
      "source": [
        "# **Pandas Dataframe**\n",
        "Pandas is defined as an open-source library that provides high-performance data manipulation in Python.\n",
        "\n",
        "command to install pandas: - **$pip install pandas**\n",
        "\n",
        "importing pandas: - \n",
        "**import pandas**\n",
        "OR\n",
        "**import pandas as pd**"
      ],
      "metadata": {
        "id": "yDCYNQGgYI_F"
      }
    },
    {
      "cell_type": "code",
      "source": [
        "#Pandas Dataframe\n",
        "#Syntax: - pandas.DataFrame( data, index, columns, dtype, copy)\n",
        "import pandas as pd\n",
        "df = pd.DataFrame()\n",
        "print(df)"
      ],
      "metadata": {
        "colab": {
          "base_uri": "https://localhost:8080/"
        },
        "id": "blrHkpm3Ylie",
        "outputId": "b825623d-b99b-4d6d-bac3-ee5e96d1ae68"
      },
      "execution_count": null,
      "outputs": [
        {
          "output_type": "stream",
          "name": "stdout",
          "text": [
            "Empty DataFrame\n",
            "Columns: []\n",
            "Index: []\n"
          ]
        }
      ]
    },
    {
      "cell_type": "code",
      "source": [
        "#Creating a dataframe using List\n",
        "import pandas as pd\n",
        "data = [1,2,3,4,5]\n",
        "df = pd.DataFrame(data)\n",
        "print(df)"
      ],
      "metadata": {
        "colab": {
          "base_uri": "https://localhost:8080/"
        },
        "id": "MR6bmYxGYwxB",
        "outputId": "a5087fb9-ec51-45c0-8c93-030574cf5aa4"
      },
      "execution_count": null,
      "outputs": [
        {
          "output_type": "stream",
          "name": "stdout",
          "text": [
            "   0\n",
            "0  1\n",
            "1  2\n",
            "2  3\n",
            "3  4\n",
            "4  5\n"
          ]
        }
      ]
    },
    {
      "cell_type": "code",
      "source": [
        "#The DataFrame can be created using a list of lists.\n",
        "import pandas as pd\n",
        "lst = [['Vruti', 20, 89], ['Binjal',19, 85],\n",
        "['Mihir', 19,90], ['Taher', 18,95], ['Dhaval', 20,84]]\n",
        "# Calling DataFrame constructor on list\n",
        "df = pd.DataFrame(lst,columns=['Name','Age','Percentile'],dtype=float)\n",
        "print(df)"
      ],
      "metadata": {
        "colab": {
          "base_uri": "https://localhost:8080/"
        },
        "id": "BFJr1Bx6Y4I1",
        "outputId": "31a4c9e5-285f-464c-e9b3-81638551c261"
      },
      "execution_count": null,
      "outputs": [
        {
          "output_type": "stream",
          "name": "stdout",
          "text": [
            "     Name   Age  Percentile\n",
            "0   Vruti  20.0        89.0\n",
            "1  Binjal  19.0        85.0\n",
            "2   Mihir  19.0        90.0\n",
            "3   Taher  18.0        95.0\n",
            "4  Dhaval  20.0        84.0\n"
          ]
        },
        {
          "output_type": "stream",
          "name": "stderr",
          "text": [
            "<ipython-input-9-2cb5386df46a>:6: FutureWarning: Could not cast to float64, falling back to object. This behavior is deprecated. In a future version, when a dtype is passed to 'DataFrame', either all columns will be cast to that dtype, or a TypeError will be raised.\n",
            "  df = pd.DataFrame(lst,columns=['Name','Age','Percentile'],dtype=float)\n"
          ]
        }
      ]
    },
    {
      "cell_type": "code",
      "source": [
        "#Creating dataframe using dict of equal length list\n",
        "import pandas as pd\n",
        "data = {'Name':['Prince', 'Bhumi', 'Jalak', 'Jemil'],'Age':[28,34,29,42]}\n",
        "df = pd.DataFrame(data)\n",
        "print(df)"
      ],
      "metadata": {
        "colab": {
          "base_uri": "https://localhost:8080/"
        },
        "id": "4YY2O5qgZCHK",
        "outputId": "097c9f4e-debd-47e3-e0fb-042171f52885"
      },
      "execution_count": null,
      "outputs": [
        {
          "output_type": "stream",
          "name": "stdout",
          "text": [
            "     Name  Age\n",
            "0  Prince   28\n",
            "1   Bhumi   34\n",
            "2   Jalak   29\n",
            "3   Jemil   42\n"
          ]
        }
      ]
    },
    {
      "cell_type": "code",
      "source": [
        "#Let us now create an indexed DataFrame using arrays.\n",
        "import pandas as pd\n",
        "data = {'Name':['Umang', 'Vanshita', 'Pratham', 'Saumil'],'Age':[28,34,29,42]}\n",
        "df = pd.DataFrame(data, index=['rank1','rank2','rank3','rank4'])\n",
        "print(df)"
      ],
      "metadata": {
        "colab": {
          "base_uri": "https://localhost:8080/"
        },
        "id": "5oT2rTBrZICx",
        "outputId": "67da2eb0-a00f-48e9-b654-3e0b61aa536c"
      },
      "execution_count": null,
      "outputs": [
        {
          "output_type": "stream",
          "name": "stdout",
          "text": [
            "           Name  Age\n",
            "rank1     Umang   28\n",
            "rank2  Vanshita   34\n",
            "rank3   Pratham   29\n",
            "rank4    Saumil   42\n"
          ]
        }
      ]
    },
    {
      "cell_type": "code",
      "source": [
        "#Reading data using csv file (read_csv())\n",
        "#Load the CSV into a DataFrame:\n",
        "import pandas as pd\n",
        "df = pd.read_csv('data.csv')\n",
        "print(df.to_string())\n",
        "#print(df)"
      ],
      "metadata": {
        "id": "IY3BOew_ZVGs",
        "colab": {
          "base_uri": "https://localhost:8080/",
          "height": 397
        },
        "outputId": "07a63401-62f1-4d04-98f2-fbe271d7eb31"
      },
      "execution_count": null,
      "outputs": [
        {
          "output_type": "error",
          "ename": "FileNotFoundError",
          "evalue": "ignored",
          "traceback": [
            "\u001b[0;31m---------------------------------------------------------------------------\u001b[0m",
            "\u001b[0;31mFileNotFoundError\u001b[0m                         Traceback (most recent call last)",
            "\u001b[0;32m<ipython-input-13-2ca616fda2fa>\u001b[0m in \u001b[0;36m<module>\u001b[0;34m\u001b[0m\n\u001b[1;32m      2\u001b[0m \u001b[0;31m#Load the CSV into a DataFrame:\u001b[0m\u001b[0;34m\u001b[0m\u001b[0;34m\u001b[0m\u001b[0m\n\u001b[1;32m      3\u001b[0m \u001b[0;32mimport\u001b[0m \u001b[0mpandas\u001b[0m \u001b[0;32mas\u001b[0m \u001b[0mpd\u001b[0m\u001b[0;34m\u001b[0m\u001b[0;34m\u001b[0m\u001b[0m\n\u001b[0;32m----> 4\u001b[0;31m \u001b[0mdf\u001b[0m \u001b[0;34m=\u001b[0m \u001b[0mpd\u001b[0m\u001b[0;34m.\u001b[0m\u001b[0mread_csv\u001b[0m\u001b[0;34m(\u001b[0m\u001b[0;34m'data.csv'\u001b[0m\u001b[0;34m)\u001b[0m\u001b[0;34m\u001b[0m\u001b[0;34m\u001b[0m\u001b[0m\n\u001b[0m\u001b[1;32m      5\u001b[0m \u001b[0mprint\u001b[0m\u001b[0;34m(\u001b[0m\u001b[0mdf\u001b[0m\u001b[0;34m.\u001b[0m\u001b[0mto_string\u001b[0m\u001b[0;34m(\u001b[0m\u001b[0;34m)\u001b[0m\u001b[0;34m)\u001b[0m\u001b[0;34m\u001b[0m\u001b[0;34m\u001b[0m\u001b[0m\n\u001b[1;32m      6\u001b[0m \u001b[0;31m#print(df)\u001b[0m\u001b[0;34m\u001b[0m\u001b[0;34m\u001b[0m\u001b[0m\n",
            "\u001b[0;32m/usr/local/lib/python3.9/dist-packages/pandas/util/_decorators.py\u001b[0m in \u001b[0;36mwrapper\u001b[0;34m(*args, **kwargs)\u001b[0m\n\u001b[1;32m    309\u001b[0m                     \u001b[0mstacklevel\u001b[0m\u001b[0;34m=\u001b[0m\u001b[0mstacklevel\u001b[0m\u001b[0;34m,\u001b[0m\u001b[0;34m\u001b[0m\u001b[0;34m\u001b[0m\u001b[0m\n\u001b[1;32m    310\u001b[0m                 )\n\u001b[0;32m--> 311\u001b[0;31m             \u001b[0;32mreturn\u001b[0m \u001b[0mfunc\u001b[0m\u001b[0;34m(\u001b[0m\u001b[0;34m*\u001b[0m\u001b[0margs\u001b[0m\u001b[0;34m,\u001b[0m \u001b[0;34m**\u001b[0m\u001b[0mkwargs\u001b[0m\u001b[0;34m)\u001b[0m\u001b[0;34m\u001b[0m\u001b[0;34m\u001b[0m\u001b[0m\n\u001b[0m\u001b[1;32m    312\u001b[0m \u001b[0;34m\u001b[0m\u001b[0m\n\u001b[1;32m    313\u001b[0m         \u001b[0;32mreturn\u001b[0m \u001b[0mwrapper\u001b[0m\u001b[0;34m\u001b[0m\u001b[0;34m\u001b[0m\u001b[0m\n",
            "\u001b[0;32m/usr/local/lib/python3.9/dist-packages/pandas/io/parsers/readers.py\u001b[0m in \u001b[0;36mread_csv\u001b[0;34m(filepath_or_buffer, sep, delimiter, header, names, index_col, usecols, squeeze, prefix, mangle_dupe_cols, dtype, engine, converters, true_values, false_values, skipinitialspace, skiprows, skipfooter, nrows, na_values, keep_default_na, na_filter, verbose, skip_blank_lines, parse_dates, infer_datetime_format, keep_date_col, date_parser, dayfirst, cache_dates, iterator, chunksize, compression, thousands, decimal, lineterminator, quotechar, quoting, doublequote, escapechar, comment, encoding, encoding_errors, dialect, error_bad_lines, warn_bad_lines, on_bad_lines, delim_whitespace, low_memory, memory_map, float_precision, storage_options)\u001b[0m\n\u001b[1;32m    676\u001b[0m     \u001b[0mkwds\u001b[0m\u001b[0;34m.\u001b[0m\u001b[0mupdate\u001b[0m\u001b[0;34m(\u001b[0m\u001b[0mkwds_defaults\u001b[0m\u001b[0;34m)\u001b[0m\u001b[0;34m\u001b[0m\u001b[0;34m\u001b[0m\u001b[0m\n\u001b[1;32m    677\u001b[0m \u001b[0;34m\u001b[0m\u001b[0m\n\u001b[0;32m--> 678\u001b[0;31m     \u001b[0;32mreturn\u001b[0m \u001b[0m_read\u001b[0m\u001b[0;34m(\u001b[0m\u001b[0mfilepath_or_buffer\u001b[0m\u001b[0;34m,\u001b[0m \u001b[0mkwds\u001b[0m\u001b[0;34m)\u001b[0m\u001b[0;34m\u001b[0m\u001b[0;34m\u001b[0m\u001b[0m\n\u001b[0m\u001b[1;32m    679\u001b[0m \u001b[0;34m\u001b[0m\u001b[0m\n\u001b[1;32m    680\u001b[0m \u001b[0;34m\u001b[0m\u001b[0m\n",
            "\u001b[0;32m/usr/local/lib/python3.9/dist-packages/pandas/io/parsers/readers.py\u001b[0m in \u001b[0;36m_read\u001b[0;34m(filepath_or_buffer, kwds)\u001b[0m\n\u001b[1;32m    573\u001b[0m \u001b[0;34m\u001b[0m\u001b[0m\n\u001b[1;32m    574\u001b[0m     \u001b[0;31m# Create the parser.\u001b[0m\u001b[0;34m\u001b[0m\u001b[0;34m\u001b[0m\u001b[0m\n\u001b[0;32m--> 575\u001b[0;31m     \u001b[0mparser\u001b[0m \u001b[0;34m=\u001b[0m \u001b[0mTextFileReader\u001b[0m\u001b[0;34m(\u001b[0m\u001b[0mfilepath_or_buffer\u001b[0m\u001b[0;34m,\u001b[0m \u001b[0;34m**\u001b[0m\u001b[0mkwds\u001b[0m\u001b[0;34m)\u001b[0m\u001b[0;34m\u001b[0m\u001b[0;34m\u001b[0m\u001b[0m\n\u001b[0m\u001b[1;32m    576\u001b[0m \u001b[0;34m\u001b[0m\u001b[0m\n\u001b[1;32m    577\u001b[0m     \u001b[0;32mif\u001b[0m \u001b[0mchunksize\u001b[0m \u001b[0;32mor\u001b[0m \u001b[0miterator\u001b[0m\u001b[0;34m:\u001b[0m\u001b[0;34m\u001b[0m\u001b[0;34m\u001b[0m\u001b[0m\n",
            "\u001b[0;32m/usr/local/lib/python3.9/dist-packages/pandas/io/parsers/readers.py\u001b[0m in \u001b[0;36m__init__\u001b[0;34m(self, f, engine, **kwds)\u001b[0m\n\u001b[1;32m    930\u001b[0m \u001b[0;34m\u001b[0m\u001b[0m\n\u001b[1;32m    931\u001b[0m         \u001b[0mself\u001b[0m\u001b[0;34m.\u001b[0m\u001b[0mhandles\u001b[0m\u001b[0;34m:\u001b[0m \u001b[0mIOHandles\u001b[0m \u001b[0;34m|\u001b[0m \u001b[0;32mNone\u001b[0m \u001b[0;34m=\u001b[0m \u001b[0;32mNone\u001b[0m\u001b[0;34m\u001b[0m\u001b[0;34m\u001b[0m\u001b[0m\n\u001b[0;32m--> 932\u001b[0;31m         \u001b[0mself\u001b[0m\u001b[0;34m.\u001b[0m\u001b[0m_engine\u001b[0m \u001b[0;34m=\u001b[0m \u001b[0mself\u001b[0m\u001b[0;34m.\u001b[0m\u001b[0m_make_engine\u001b[0m\u001b[0;34m(\u001b[0m\u001b[0mf\u001b[0m\u001b[0;34m,\u001b[0m \u001b[0mself\u001b[0m\u001b[0;34m.\u001b[0m\u001b[0mengine\u001b[0m\u001b[0;34m)\u001b[0m\u001b[0;34m\u001b[0m\u001b[0;34m\u001b[0m\u001b[0m\n\u001b[0m\u001b[1;32m    933\u001b[0m \u001b[0;34m\u001b[0m\u001b[0m\n\u001b[1;32m    934\u001b[0m     \u001b[0;32mdef\u001b[0m \u001b[0mclose\u001b[0m\u001b[0;34m(\u001b[0m\u001b[0mself\u001b[0m\u001b[0;34m)\u001b[0m\u001b[0;34m:\u001b[0m\u001b[0;34m\u001b[0m\u001b[0;34m\u001b[0m\u001b[0m\n",
            "\u001b[0;32m/usr/local/lib/python3.9/dist-packages/pandas/io/parsers/readers.py\u001b[0m in \u001b[0;36m_make_engine\u001b[0;34m(self, f, engine)\u001b[0m\n\u001b[1;32m   1214\u001b[0m             \u001b[0;31m# \"Union[str, PathLike[str], ReadCsvBuffer[bytes], ReadCsvBuffer[str]]\"\u001b[0m\u001b[0;34m\u001b[0m\u001b[0;34m\u001b[0m\u001b[0m\n\u001b[1;32m   1215\u001b[0m             \u001b[0;31m# , \"str\", \"bool\", \"Any\", \"Any\", \"Any\", \"Any\", \"Any\"\u001b[0m\u001b[0;34m\u001b[0m\u001b[0;34m\u001b[0m\u001b[0m\n\u001b[0;32m-> 1216\u001b[0;31m             self.handles = get_handle(  # type: ignore[call-overload]\n\u001b[0m\u001b[1;32m   1217\u001b[0m                 \u001b[0mf\u001b[0m\u001b[0;34m,\u001b[0m\u001b[0;34m\u001b[0m\u001b[0;34m\u001b[0m\u001b[0m\n\u001b[1;32m   1218\u001b[0m                 \u001b[0mmode\u001b[0m\u001b[0;34m,\u001b[0m\u001b[0;34m\u001b[0m\u001b[0;34m\u001b[0m\u001b[0m\n",
            "\u001b[0;32m/usr/local/lib/python3.9/dist-packages/pandas/io/common.py\u001b[0m in \u001b[0;36mget_handle\u001b[0;34m(path_or_buf, mode, encoding, compression, memory_map, is_text, errors, storage_options)\u001b[0m\n\u001b[1;32m    784\u001b[0m         \u001b[0;32mif\u001b[0m \u001b[0mioargs\u001b[0m\u001b[0;34m.\u001b[0m\u001b[0mencoding\u001b[0m \u001b[0;32mand\u001b[0m \u001b[0;34m\"b\"\u001b[0m \u001b[0;32mnot\u001b[0m \u001b[0;32min\u001b[0m \u001b[0mioargs\u001b[0m\u001b[0;34m.\u001b[0m\u001b[0mmode\u001b[0m\u001b[0;34m:\u001b[0m\u001b[0;34m\u001b[0m\u001b[0;34m\u001b[0m\u001b[0m\n\u001b[1;32m    785\u001b[0m             \u001b[0;31m# Encoding\u001b[0m\u001b[0;34m\u001b[0m\u001b[0;34m\u001b[0m\u001b[0m\n\u001b[0;32m--> 786\u001b[0;31m             handle = open(\n\u001b[0m\u001b[1;32m    787\u001b[0m                 \u001b[0mhandle\u001b[0m\u001b[0;34m,\u001b[0m\u001b[0;34m\u001b[0m\u001b[0;34m\u001b[0m\u001b[0m\n\u001b[1;32m    788\u001b[0m                 \u001b[0mioargs\u001b[0m\u001b[0;34m.\u001b[0m\u001b[0mmode\u001b[0m\u001b[0;34m,\u001b[0m\u001b[0;34m\u001b[0m\u001b[0;34m\u001b[0m\u001b[0m\n",
            "\u001b[0;31mFileNotFoundError\u001b[0m: [Errno 2] No such file or directory: 'data.csv'"
          ]
        }
      ]
    },
    {
      "cell_type": "code",
      "source": [
        "#Retrieving rows and columns from dataframe using index\n",
        "#Retrieving rows and columns using loc and iloc functions.\n",
        "#Let’s create a simple dataframe with a list of tuples, say column names are: ‘Name’, ‘Age’, ‘City’ and ‘Salary’.\n",
        "import pandas as pd\n",
        "# List of Tuples\n",
        "employees = [('Stuti', 28, 'Varanasi', 20000),\n",
        "('Saumya', 32, 'Delhi', 25000),\n",
        "('Aaditya', 25, 'Mumbai', 40000),\n",
        "('Saumya', 32, 'Delhi', 35000),\n",
        "('Saumya', 32, 'Delhi', 30000),\n",
        "('Saumya', 32, 'Mumbai', 20000),\n",
        "('Aaditya', 40, 'Dehradun', 24000),\n",
        "('Seema', 32, 'Delhi', 70000)]\n",
        "\n",
        "# Create a DataFrame object from list\n",
        "df = pd.DataFrame(employees,columns =['Name', 'Age','City', 'Salary'])\n",
        "# Show the dataframe\n",
        "print(df)"
      ],
      "metadata": {
        "colab": {
          "base_uri": "https://localhost:8080/"
        },
        "id": "wvG5p5wDZV34",
        "outputId": "016b04d6-4583-47f8-b593-517efa3ad401"
      },
      "execution_count": null,
      "outputs": [
        {
          "output_type": "stream",
          "name": "stdout",
          "text": [
            "      Name  Age      City  Salary\n",
            "0    Stuti   28  Varanasi   20000\n",
            "1   Saumya   32     Delhi   25000\n",
            "2  Aaditya   25    Mumbai   40000\n",
            "3   Saumya   32     Delhi   35000\n",
            "4   Saumya   32     Delhi   30000\n",
            "5   Saumya   32    Mumbai   20000\n",
            "6  Aaditya   40  Dehradun   24000\n",
            "7    Seema   32     Delhi   70000\n"
          ]
        }
      ]
    },
    {
      "cell_type": "code",
      "source": [
        "#To select single column & to select multiple columns\n",
        "import pandas as pd # import pandas\n",
        "# List of Tuples\n",
        "employees = [('Stuti', 28, 'Varanasi', 20000),\n",
        "('Saumya', 32, 'Delhi', 25000),\n",
        "('Aaditya', 25, 'Mumbai', 40000),\n",
        "('Saumya', 32, 'Delhi', 35000),\n",
        "('Saumya', 32, 'Delhi', 30000),\n",
        "('Saumya', 32, 'Mumbai', 20000),\n",
        "('Aaditya', 40, 'Dehradun', 24000),\n",
        "('Seema', 32, 'Delhi', 70000)]\n",
        "\n",
        "# Create a DataFrame object from list\n",
        "df = pd.DataFrame(employees,columns =['Name', 'Age','City', 'Salary'])\n",
        "\n",
        "# Show the dataframe\n",
        "print(\"\\n<------Show the dataframe------->\")\n",
        "print(df)\n",
        "# Using the operator [] to select a column\n",
        "print(\"\\n<------Result Of Cities------->\")\n",
        "result = df[\"City\"]\n",
        "# Show the dataframe\n",
        "print(result)\n",
        "# Using the operator [] to select multiple columns\n",
        "print(\"\\n<------Result Of Name,Age & Salarys------->\")\n",
        "result = df[[\"Name\", \"Age\", \"Salary\"]]\n",
        "# Show the dataframe\n",
        "print(result)"
      ],
      "metadata": {
        "colab": {
          "base_uri": "https://localhost:8080/"
        },
        "id": "ax6ZyvjrZmAD",
        "outputId": "59bfefb7-5a74-44fd-fb9e-8c8c94af8c9d"
      },
      "execution_count": null,
      "outputs": [
        {
          "output_type": "stream",
          "name": "stdout",
          "text": [
            "\n",
            "<------Show the dataframe------->\n",
            "      Name  Age      City  Salary\n",
            "0    Stuti   28  Varanasi   20000\n",
            "1   Saumya   32     Delhi   25000\n",
            "2  Aaditya   25    Mumbai   40000\n",
            "3   Saumya   32     Delhi   35000\n",
            "4   Saumya   32     Delhi   30000\n",
            "5   Saumya   32    Mumbai   20000\n",
            "6  Aaditya   40  Dehradun   24000\n",
            "7    Seema   32     Delhi   70000\n",
            "\n",
            "<------Result Of Cities------->\n",
            "0    Varanasi\n",
            "1       Delhi\n",
            "2      Mumbai\n",
            "3       Delhi\n",
            "4       Delhi\n",
            "5      Mumbai\n",
            "6    Dehradun\n",
            "7       Delhi\n",
            "Name: City, dtype: object\n",
            "\n",
            "<------Result Of Name,Age & Salarys------->\n",
            "      Name  Age  Salary\n",
            "0    Stuti   28   20000\n",
            "1   Saumya   32   25000\n",
            "2  Aaditya   25   40000\n",
            "3   Saumya   32   35000\n",
            "4   Saumya   32   30000\n",
            "5   Saumya   32   20000\n",
            "6  Aaditya   40   24000\n",
            "7    Seema   32   70000\n"
          ]
        }
      ]
    },
    {
      "cell_type": "code",
      "source": [
        "#Using Dataframe.loc[ ]\n",
        "#Syntax: DataFrame.loc[\"row1\"]\n",
        "#To select single row & multiple rows.\n",
        "import pandas as pd\n",
        "employees = [('Stuti', 28, 'Varanasi', 20000),\n",
        "('Saumya', 32, 'Delhi', 25000),\n",
        "('Aaditya', 25, 'Mumbai', 40000),\n",
        "('Saumya', 32, 'Delhi', 35000),\n",
        "('Saumya', 32, 'Delhi', 30000),\n",
        "('Saumya', 32, 'Mumbai', 20000),\n",
        "('Aaditya', 40, 'Dehradun', 24000),\n",
        "('Seema', 32, 'Delhi', 70000) ]\n",
        "\n",
        "# Create a DataFrame object from list\n",
        "df = pd.DataFrame(employees,columns =['Name', 'Age','City', 'Salary'])\n",
        "print(\"<-------------DataFrame---------->\")\n",
        "print(df)\n",
        "# Set 'Name' column as index on a Dataframe\n",
        "print(\"\\n<----------DataFrame after Set_index-------->\")\n",
        "df.set_index(\"Name\", inplace = True)\n",
        "print(df)\n",
        "# Using the operator .loc[] to select single row\n",
        "result = df.loc[\"Stuti\"]\n",
        "# Show the dataframe\n",
        "print(\"\\n<----DataFrame With Single Row----->\")\n",
        "print(result)\n",
        "# Using the operator .loc[] to select multiple rows\n",
        "result = df.loc[[\"Stuti\", \"Seema\"]]\n",
        "# Show the dataframe\n",
        "print(\"\\n<----DataFrame With multiple rows----->\")\n",
        "print(result)"
      ],
      "metadata": {
        "colab": {
          "base_uri": "https://localhost:8080/"
        },
        "id": "RafLR-AUZqJ4",
        "outputId": "93e10082-dcd5-41d3-943d-8d093bdf2dc9"
      },
      "execution_count": null,
      "outputs": [
        {
          "output_type": "stream",
          "name": "stdout",
          "text": [
            "<-------------DataFrame---------->\n",
            "      Name  Age      City  Salary\n",
            "0    Stuti   28  Varanasi   20000\n",
            "1   Saumya   32     Delhi   25000\n",
            "2  Aaditya   25    Mumbai   40000\n",
            "3   Saumya   32     Delhi   35000\n",
            "4   Saumya   32     Delhi   30000\n",
            "5   Saumya   32    Mumbai   20000\n",
            "6  Aaditya   40  Dehradun   24000\n",
            "7    Seema   32     Delhi   70000\n",
            "\n",
            "<----------DataFrame after Set_index-------->\n",
            "         Age      City  Salary\n",
            "Name                          \n",
            "Stuti     28  Varanasi   20000\n",
            "Saumya    32     Delhi   25000\n",
            "Aaditya   25    Mumbai   40000\n",
            "Saumya    32     Delhi   35000\n",
            "Saumya    32     Delhi   30000\n",
            "Saumya    32    Mumbai   20000\n",
            "Aaditya   40  Dehradun   24000\n",
            "Seema     32     Delhi   70000\n",
            "\n",
            "<----DataFrame With Single Row----->\n",
            "Age             28\n",
            "City      Varanasi\n",
            "Salary       20000\n",
            "Name: Stuti, dtype: object\n",
            "\n",
            "<----DataFrame With multiple rows----->\n",
            "       Age      City  Salary\n",
            "Name                        \n",
            "Stuti   28  Varanasi   20000\n",
            "Seema   32     Delhi   70000\n"
          ]
        }
      ]
    },
    {
      "cell_type": "code",
      "source": [
        "#To select multiple rows and particular columns.\n",
        "#Syntax: Dataframe.loc[[\"row1\", \"row2\"...], [\"column1\", \"column2\", \"column3\"...]]\n",
        "\n",
        "import pandas as pd\n",
        "# List of Tuples\n",
        "employees = [('Stuti', 28, 'Varanasi', 20000),\n",
        "('Saumya', 32, 'Delhi', 25000),\n",
        "('Aaditya', 25, 'Mumbai', 40000),\n",
        "('Saumya', 32, 'Delhi', 35000),\n",
        "('Saumya', 32, 'Delhi', 30000),\n",
        "('Saumya', 32, 'Mumbai', 20000),\n",
        "('Aaditya', 40, 'Dehradun', 24000),\n",
        "('Seema', 32, 'Delhi', 70000) ]\n",
        "\n",
        "# Create a DataFrame object from list\n",
        "df = pd.DataFrame(employees,columns =['Name', 'Age','City', 'Salary'])\n",
        "# Set 'Name' column as index on a Dataframe\n",
        "df.set_index(\"Name\", inplace = True)\n",
        "# Using the operator .loc[] to select multiple rows with some particular columns\n",
        "result = df.loc[[\"Stuti\", \"Seema\"],[\"City\", \"Salary\"]]\n",
        "# Show the dataframe\n",
        "print(result)"
      ],
      "metadata": {
        "colab": {
          "base_uri": "https://localhost:8080/"
        },
        "id": "lfzix-jrZ-Qs",
        "outputId": "de50a6af-3fea-4b6c-c386-e6ca3c3f3181"
      },
      "execution_count": null,
      "outputs": [
        {
          "output_type": "stream",
          "name": "stdout",
          "text": [
            "           City  Salary\n",
            "Name                   \n",
            "Stuti  Varanasi   20000\n",
            "Seema     Delhi   70000\n"
          ]
        }
      ]
    },
    {
      "cell_type": "code",
      "source": [
        "#Using Dataframe.iloc[ ] to select a single row, multiple rows, \n",
        "#multiple rows with some particular columns and to select all the rows with some particular columns\n",
        "\n",
        "# import pandas\n",
        "import pandas as pd\n",
        "employees = [('Stuti', 28, 'Varanasi', 20000),\n",
        "('Saumya', 32, 'Delhi', 25000),\n",
        "('Aaditya', 25, 'Mumbai', 40000),\n",
        "('Saumya', 32, 'Delhi', 35000),\n",
        "('Saumya', 32, 'Delhi', 30000),\n",
        "('Saumya', 32, 'Mumbai', 20000),\n",
        "('Aaditya', 40, 'Dehradun', 24000),\n",
        "('Seema', 32, 'Delhi', 70000) ]\n",
        "\n",
        "# Create a DataFrame object from list\n",
        "df = pd.DataFrame(employees,columns =['Name', 'Age','City', 'Salary'])\n",
        "print(\"<----------DataFrame------------>\")\n",
        "print(df)\n",
        "# Using the operator .iloc[] to select single row\n",
        "result = df.iloc[2]\n",
        "# Show the dataframe\n",
        "print(\"\\n<----single row----->\")\n",
        "print(result)\n",
        "\n",
        "# Using the operator .iloc[] to select multiple rows\n",
        "result = df.iloc[[2, 3, 5]]\n",
        "# Show the dataframe\n",
        "print(\"\\n<----multiple rows----->\")\n",
        "print(result)\n",
        "# to select multiple rows with some particular columns.\n",
        "# Using the operator .iloc[] to select multiple rows with some particular columns\n",
        "result = df.iloc[[2, 3, 5],[0, 1]]\n",
        "# Show the dataframe\n",
        "print(\"\\n<--multiple rows with some particular columns-->\")\n",
        "print(result)\n",
        "# Using the operator .iloc[] to select all the rows with some particular columns\n",
        "result = df.iloc[[0, 1], :]\n",
        "# Show the dataframe\n",
        "print(\"\\n<---select all the rows with some particular columns-->\")\n",
        "print(result)"
      ],
      "metadata": {
        "colab": {
          "base_uri": "https://localhost:8080/"
        },
        "id": "i9BaM8tIaFhh",
        "outputId": "dad8caef-ac6e-429f-ed63-bf74554d939b"
      },
      "execution_count": null,
      "outputs": [
        {
          "output_type": "stream",
          "name": "stdout",
          "text": [
            "<----------DataFrame------------>\n",
            "      Name  Age      City  Salary\n",
            "0    Stuti   28  Varanasi   20000\n",
            "1   Saumya   32     Delhi   25000\n",
            "2  Aaditya   25    Mumbai   40000\n",
            "3   Saumya   32     Delhi   35000\n",
            "4   Saumya   32     Delhi   30000\n",
            "5   Saumya   32    Mumbai   20000\n",
            "6  Aaditya   40  Dehradun   24000\n",
            "7    Seema   32     Delhi   70000\n",
            "\n",
            "<----single row----->\n",
            "Name      Aaditya\n",
            "Age            25\n",
            "City       Mumbai\n",
            "Salary      40000\n",
            "Name: 2, dtype: object\n",
            "\n",
            "<----multiple rows----->\n",
            "      Name  Age    City  Salary\n",
            "2  Aaditya   25  Mumbai   40000\n",
            "3   Saumya   32   Delhi   35000\n",
            "5   Saumya   32  Mumbai   20000\n",
            "\n",
            "<--multiple rows with some particular columns-->\n",
            "      Name  Age\n",
            "2  Aaditya   25\n",
            "3   Saumya   32\n",
            "5   Saumya   32\n",
            "\n",
            "<---select all the rows with some particular columns-->\n",
            "     Name  Age      City  Salary\n",
            "0   Stuti   28  Varanasi   20000\n",
            "1  Saumya   32     Delhi   25000\n"
          ]
        }
      ]
    },
    {
      "cell_type": "code",
      "source": [],
      "metadata": {
        "id": "2HohhydPaxhP"
      },
      "execution_count": null,
      "outputs": []
    }
  ]
}